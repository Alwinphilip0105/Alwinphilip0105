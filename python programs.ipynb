{
  "cells": [
    {
      "cell_type": "markdown",
      "metadata": {
        "id": "view-in-github",
        "colab_type": "text"
      },
      "source": [
        "<a href=\"https://colab.research.google.com/github/Alwinphilip0105/Alwinphilip0105/blob/main/python%20programs.ipynb\" target=\"_parent\"><img src=\"https://colab.research.google.com/assets/colab-badge.svg\" alt=\"Open In Colab\"/></a>"
      ]
    },
    {
      "cell_type": "code",
      "execution_count": null,
      "metadata": {
        "id": "fxUM8KJIjl0V"
      },
      "outputs": [],
      "source": [
        "#Fibonacci Series\n",
        "nterms=int(input(\"Enter  no of terms you want to print\"))\n",
        "n1,n2=0,1\n",
        "count=0\n",
        "if nterms <= 0:\n",
        "   print(\"Please enter a positive integer\")\n",
        "elif nterms == 1:\n",
        "   print(\"Fibonacci sequence upto\",nterms,\":\")\n",
        "   print(n1)\n",
        "else:\n",
        "   print(\"Fibonacci sequence:\")\n",
        "   while count < nterms:\n",
        "       print(n1)\n",
        "       nth = n1 + n2\n",
        "       # update values\n",
        "       n1 = n2\n",
        "       n2 = nth\n",
        "       count += 1"
      ]
    },
    {
      "cell_type": "code",
      "execution_count": null,
      "metadata": {
        "id": "1FmzILi0nLay"
      },
      "outputs": [],
      "source": [
        "#Factorial of a number\n"
      ]
    },
    {
      "cell_type": "code",
      "execution_count": null,
      "metadata": {
        "id": "z4nD08j0nmlk"
      },
      "outputs": [],
      "source": [
        "#print table of a number\n",
        "a=int(input(\"Enter a number to show its table\"))\n",
        "i=1\n",
        "for i in range(1,11):\n",
        "  r=a*i\n",
        "  print(\"\\n\",r)\n"
      ]
    },
    {
      "cell_type": "code",
      "execution_count": null,
      "metadata": {
        "id": "un5rnhq0om37"
      },
      "outputs": [],
      "source": [
        "#print reverse table of a number\n",
        "a=int(input(\"Enter a number to show its table\"))\n",
        "i=10\n",
        "while i!=0:\n",
        "  r=a*i\n",
        "  print(\"\\n\",r)\n",
        "  i=i-1\n",
        "  \n"
      ]
    },
    {
      "cell_type": "code",
      "execution_count": null,
      "metadata": {
        "id": "C1Trvhmtqs-f"
      },
      "outputs": [],
      "source": [
        "#print factors of a number\n",
        "x=int(input(\"Enter a number\"))\n",
        "print(\"The factors of\",x,\"are:\")\n",
        "for i in range(1, x + 1):\n",
        "       if x % i == 0:\n",
        "           print(i)"
      ]
    },
    {
      "cell_type": "code",
      "execution_count": null,
      "metadata": {
        "id": "PfaZCfynrzim"
      },
      "outputs": [],
      "source": [
        "#check number is prime or not \n",
        "n=int(input(\"Enter a number\"))\n",
        "for i in range(2,n//2):\n",
        "  if n%i==0:\n",
        "    print(\"not a prime no\")\n",
        "    break\n",
        "  else:\n",
        "    print(\"It is a prime no\")"
      ]
    },
    {
      "cell_type": "code",
      "execution_count": null,
      "metadata": {
        "id": "ocdFo0yWwUaN"
      },
      "outputs": [],
      "source": [
        "#check number is prime or not \n",
        "\n",
        "# To take input from the user\n",
        "num = int(input(\"Enter a number: \"))\n",
        "\n",
        "# prime numbers are greater than 1\n",
        "if num > 1:\n",
        "   # check for factors\n",
        "   for i in range(2,num):\n",
        "       if (num % i) == 0:\n",
        "           print(num,\"is not a prime number\")\n",
        "           print(i,\"times\",num//i,\"is\",num)\n",
        "           break\n",
        "   else:\n",
        "       print(num,\"is a prime number\")\n",
        "       \n",
        "# if input number is less than\n",
        "# or equal to 1, it is not prime\n",
        "else:\n",
        "   print(num,\"is not a prime number\")"
      ]
    },
    {
      "cell_type": "code",
      "execution_count": null,
      "metadata": {
        "id": "Rqt6YLn0yOi1"
      },
      "outputs": [],
      "source": [
        "#sum of n natural number\n",
        "num = int(input(\"Enter a number: \"))\n",
        "if num < 0:\n",
        "   print(\"Enter a positive number\")\n",
        "else:\n",
        "   sum = 0\n",
        "   # use while loop to iterate until zero\n",
        "   while(num > 0):\n",
        "       sum += num\n",
        "       num -= 1\n",
        "   print(\"The sum is\", sum)"
      ]
    },
    {
      "cell_type": "code",
      "execution_count": null,
      "metadata": {
        "id": "WxZza0rQzNtI"
      },
      "outputs": [],
      "source": [
        "#\tsum of squares of n natural number\n"
      ]
    },
    {
      "cell_type": "code",
      "execution_count": null,
      "metadata": {
        "colab": {
          "base_uri": "https://localhost:8080/"
        },
        "id": "TCMpdXav4uHW",
        "outputId": "e8177f53-fc07-4d40-9a56-0f6823a59282"
      },
      "outputs": [
        {
          "name": "stdout",
          "output_type": "stream",
          "text": [
            "Team A enter your nameA\n",
            "Team B enter your name B\n",
            "Enter the number of overs you want to play1\n",
            "TOSS\n",
            " Enter your choice Team A press (1) for HEADS/(2) for TAILS1\n",
            "TOSS\n",
            " Enter your choice Team B press (1) for HEADS/(2) for TAILS2\n",
            "Wicket 1\n",
            "Wicket 2\n",
            "Wicket 3\n",
            "Wicket 4\n",
            "Wicket 5\n",
            "run scored 1\n",
            "\n",
            "total score 1\n",
            "\n",
            " wickets fallen 6\n"
          ]
        }
      ],
      "source": [
        "#version 0\n",
        "import random\n",
        "import time\n",
        "#CRICKET MANIA\n",
        "x=input(\"Team A enter your name\")\n",
        "y=input(\"Team B enter your name \")\n",
        "wicket=1\n",
        "score=0\n",
        "#overs\n",
        "o=int(input(\"Enter the number of overs you want to play\"))\n",
        "O=o*6\n",
        "#Toss\n",
        "TOSS=random.randint(1,3)\n",
        "T1=input(\"TOSS\\n Enter your choice Team 1 press (1) for HEADS/(2) for TAILS\")\n",
        "T2=input(\"TOSS\\n Enter your choice Team 2  press (1) for HEADS/(2) for TAILS\")\n",
        " \n",
        "if TOSS==T1:\n",
        "   print(\"choose bat or ball\")\n",
        "elif TOSS==2:\n",
        "   print(\"\")   \n",
        "    \n",
        "\n",
        "for i in range(O):\n",
        "  x=random.randint(1,8)\n",
        "  if x in (1,7):\n",
        "    time.sleep(2)\n",
        "    print(\"run scored\",x)\n",
        "    score=score+x\n",
        "  else:\n",
        "    print(\"Wicket\",wicket)\n",
        "    wicket=wicket+1  \n",
        "print(\"\\nTotal Score\",score) \n",
        "print(\"\\n wickets fallen\",wicket)  \n",
        "\n",
        " \n"
      ]
    },
    {
      "cell_type": "code",
      "execution_count": null,
      "metadata": {
        "id": "G4_RmfcD0g2U"
      },
      "outputs": [],
      "source": [
        "#eg of lower()&upper()\n",
        "st=\"HERT\"\n",
        "print(st.lower())\n",
        "st=\"hurt\"\n",
        "print(st.upper())"
      ]
    },
    {
      "cell_type": "code",
      "execution_count": null,
      "metadata": {
        "id": "ku3b4QC8-B6H"
      },
      "outputs": [],
      "source": [
        "#version 1\n",
        "\n",
        "import random\n",
        "import time\n",
        "#CRICKET MANIA\n",
        "x=input(\"Team A enter your name\")\n",
        "y=input(\"Team B enter your name \")\n",
        "wicket=0\n",
        "score=0\n",
        "#overs\n",
        "o=int(input(\"Enter the number of overs you want to play\"))\n",
        "Ov=o*6\n",
        "#Toss\n",
        "TOSS=random.randint(1,3)\n",
        "T1=input(\"TOSS\\n Enter your choice press (1) for HEADS/(2) for TAILS\")\n",
        "T2=input(\"TOSS\\n Enter your choice press (1) for HEADS/(2) for TAILS\")\n",
        " \n",
        "if TOSS==T1:\n",
        "    print(\"choose bat or ball\")\n",
        "elif TOSS==2:\n",
        "    print(\"c\")   \n",
        "    \n",
        "\n",
        "\n",
        "for i in range(Ov):\n",
        "  x=random.randint(0,8)\n",
        "  #ctr=0\n",
        "  if x==7:\n",
        "    \n",
        "    wicket=wicket+1\n",
        "    print(\"Wicket\",wicket)\n",
        "    if wicket==10:\n",
        "       print(\"All Out\")\n",
        "       break \n",
        "  else:\n",
        "    print(\"run scored\",x)\n",
        "    score=score+x\n",
        "    \n",
        "print(score,\"/\",wicket)  \n",
        "\n",
        "  \n"
      ]
    },
    {
      "cell_type": "code",
      "execution_count": null,
      "metadata": {
        "colab": {
          "base_uri": "https://localhost:8080/"
        },
        "id": "FlhKbTX9-Cj4",
        "outputId": "872df3f2-0fa3-457b-d10b-b649656a2e84"
      },
      "outputs": [
        {
          "name": "stdout",
          "output_type": "stream",
          "text": [
            "Team A enter your name CSK\n",
            "Team B enter your name RCB\n",
            "Enter the number of overs you want to play5\n",
            "TOSS\n",
            " Enter your choice press (1) for HEADS/(2) for TAILS2\n",
            "\n",
            " WIDE BALL \n",
            "run scored 4\n",
            "run scored 6\n",
            "\n",
            " WIDE BALL \n",
            "run scored 1\n",
            "\n",
            " WIDE BALL \n",
            "run scored 5\n",
            "Wicket 1\n",
            "run scored 0\n",
            "run scored 1\n",
            "run scored 0\n",
            "run scored 3\n",
            "run scored 3\n",
            "run scored 1\n",
            "run scored 1\n",
            "run scored 2\n",
            "run scored 3\n",
            "run scored 1\n",
            "\n",
            " WIDE BALL \n",
            "run scored 6\n",
            "run scored 4\n",
            "run scored 3\n",
            "run scored 5\n",
            "\n",
            " WIDE BALL \n",
            "Wicket 2\n",
            "Wicket 3\n",
            "run scored 0\n",
            "run scored 6\n",
            "run scored 6\n",
            "run scored 5\n",
            "71 / 3\n"
          ]
        }
      ],
      "source": [
        "\n",
        "#version 2\n",
        "\n",
        "import random\n",
        "import time\n",
        "import sys\n",
        "#CRICKET Teams\n",
        "x=input(\"Team A enter your name \")\n",
        "y=input(\"Team B enter your name \")\n",
        "wicket=0\n",
        "score=0\n",
        "#overs\n",
        "o=int(input(\"Enter the number of overs you want to play\"))\n",
        "Ov=o*6\n",
        "#Toss\n",
        "TOSS=random.randint(1,3)\n",
        "T1=input(\"TOSS\\n Enter your choice press (1) for HEADS/(2) for TAILS\")\n",
        "\n",
        " \n",
        "if TOSS==T1:\n",
        "  print(\"Team\",x,\"choose bat(1) or ball(2)\")\n",
        "  t1=int(input(\"Enter choice:\"))\n",
        "  if t1==1:\n",
        "         print(\"you choose to bat\")\n",
        "  elif t1==2:\n",
        "         print(\"you choose to bowl\")  \n",
        "  else:\n",
        "         print(\"INVALID CHOICE\") \n",
        "         \n",
        "elif TOSS==2:\n",
        "  print(\"Team\",y,\"choose bat(1) or ball(2)\")\n",
        "  t2=int(input(\"Enter choice:\"))\n",
        "  if t2==1:\n",
        "         print(\"you choose to bat\")\n",
        "  elif t2==2:\n",
        "         print(\"you choose to bowl\")\n",
        "  else:\n",
        "          print(\"INVALID CHOICE\") \n",
        "          \n",
        "\n",
        "  \n",
        "\n",
        "    \n",
        "for i in range(Ov):\n",
        "  x=random.randint(-1,8)\n",
        "  if x==7:\n",
        "    \n",
        "    wicket=wicket+1\n",
        "    print(\"Wicket\",wicket)\n",
        "    if wicket==10:\n",
        "       print(\"All Out\")\n",
        "       break \n",
        " \n",
        "  elif x==-1:\n",
        "    print(\"\\n WIDE BALL \")\n",
        "    score=score+1\n",
        "\n",
        "  else:\n",
        "    print(\"run scored\",x)\n",
        "    score=score+x\n",
        "    \n",
        "print(score,\"/\",wicket) \n",
        "\n",
        "\n",
        " \n"
      ]
    },
    {
      "cell_type": "code",
      "execution_count": null,
      "metadata": {
        "id": "mr71efjbxQ0T"
      },
      "outputs": [],
      "source": [
        "#to count no of spaces\n",
        "count=0.\n",
        "line=input(\"enter a string\")\n",
        "for i in line:\n",
        "  if(i. isspace()):\n",
        "    count=count+1\n",
        "print(\"The number of blank spaces is: \",count)"
      ]
    },
    {
      "cell_type": "code",
      "execution_count": null,
      "metadata": {
        "id": "xUXHXY67rZqz"
      },
      "outputs": [],
      "source": [
        "#login ID\n",
        "import datetime\n",
        "password=\"\"\n",
        "login=input(\"login Id:\")\n",
        "if login=='alwinphilip138@gmail.com':\n",
        "  password=input(\"Enter your password:\")\n",
        "else:\n",
        "  print(\"INVALID login Id\")\n",
        "  exit(0)\n",
        "if password==\"Alwin2002\":\n",
        "  logintime=datetime.datetime.now()\n",
        "  print(\"logintime ->\",logintime.hour,\":\",logintime.minute,\":\",logintime.second)\n",
        "else:\n",
        "  print(\"enter your valid information\")"
      ]
    },
    {
      "cell_type": "code",
      "execution_count": null,
      "metadata": {
        "colab": {
          "base_uri": "https://localhost:8080/",
          "height": 34
        },
        "id": "9jsWQrUIuVWf",
        "outputId": "a79c701d-af33-4331-954f-972633745a67"
      },
      "outputs": [
        {
          "name": "stdout",
          "output_type": "stream",
          "text": [
            "2020-07-24 05:27:27.908603\n"
          ]
        }
      ],
      "source": [
        "import datetime\n",
        "cst=datetime.datetime.now()\n",
        "print(cst)"
      ]
    },
    {
      "cell_type": "code",
      "execution_count": null,
      "metadata": {
        "id": "zGBHwMlqu4Gt"
      },
      "outputs": [],
      "source": [
        "#isspace\n",
        "s=\"abcd\"\n",
        "t=\"welcome\"\n",
        "r=\"9810\"\n",
        "w=\" \"\n",
        "print(s.isspace(),t.isspace(),r.isspace(),w.isspace())"
      ]
    },
    {
      "cell_type": "code",
      "execution_count": null,
      "metadata": {
        "id": "S-ElxMuH1HRW"
      },
      "outputs": [],
      "source": [
        "#MCQ #n progress\n",
        "import datetime\n",
        "score=0\n",
        "nm=input(\"Enter your name\")\n",
        "print(\"\\npress Enter to proceed\",\"\")\n",
        "print(\"\\nINSTRUCTIONS\")\n",
        "print(\"\\n\\nchoose the correct option from the mcq given below \\n 1)each correct answer will be followed by +4 marks\\n2) each wrong ans will be folloed by -1 marks\\n3)the time taken will be notedthe maxium time time limit is 15 min\")\n",
        "password=\"\"\n",
        "login=input(\"login Id:\")\n",
        "if login=='alwinphilip138@gmail.com':\n",
        "  password=input(\"Enter your password:\")\n",
        "else:\n",
        "  print(\"INVALID login Id\")\n",
        "  exit(0)\n",
        "if password==\"Alwin2002\":\n",
        "  logintime=datetime.datetime.now()\n",
        "  print(\"logintime ->\",logintime.hour,\":\",logintime.minute,\":\",logintime.second)\n",
        "  #mcq begins\n",
        "  print(\"choose the subject you want to begin with choose the subject you want to give the test \\n1)Physics \\n2)Chemistry \\n3)Mathematics\\n4)Biology\\n5)submit & exit \\n For choosing the subject press the digit infront of the topic\")\n",
        "  ch=int(input(\"Eneter your choice: \"))\n",
        "  \n",
        " # while ch!=5:\n",
        "    \n",
        "  if ch==1:\n",
        "      starttime=datetime.datetime.now()\n",
        "      print(\"starttime ->\",logintime.hour,\":\",logintime.minute)\n",
        "      print(\"\\n1.Which among the following is measured using a Vernier Calliper?\\n[A] Dimensions\\n[B] Time\\n[C] Sound\\n[D] Temperature\")\n",
        "      opt=(input(\"Enetr the option\"))\n",
        "      if opt=='A' or opt=='a'  :\n",
        "        score=score+4\n",
        "        print(\"score is\",score)\n",
        "      else:\n",
        "        score=score-1\n",
        "\n",
        "     \n",
        "\n",
        "      print(\"\\n2.Which among the following temperature scale is based upon absolute zero?\\n[A] Celsius\\n[B] Fahrenheit\\n[C] Kelvin\\n[D] Rankine\")\n",
        "\n",
        "      opt=(input(\"Enetr the option\"))\n",
        "      if opt=='C' or opt=='c'  :\n",
        "        score=score+4\n",
        "      else:\n",
        "        score=score-1\n",
        "\n",
        "\n",
        "      print(\"\\n3.Which of the following scientific discoveries was made by C.V Raman?\\n[A] Inelastic scattering of light by molecules\\n[B] Super Conductivity\\n[C] Controlled nuclear fission\\n[D] Cyclotron\")\n",
        "\n",
        "      opt=(input(\"Enetr the option\"))\n",
        "      if opt=='A' or opt=='a'  :\n",
        "        score=score+4\n",
        "      else:\n",
        "        score=score-1\n",
        "\n",
        "\n",
        "      print(\"\\n4.Which of the following is the unit of Velocity Gradient?(s=second)\\n[A] s2\\n[B] s-1\\n[C] s\\n[D] s-2\")\n",
        "\n",
        "      opt=(input(\"Enetr the option\"))\n",
        "      if opt=='A' or opt=='a'  :\n",
        "        score=score+4\n",
        "      else:\n",
        "        score=score-1\n",
        "\n",
        "      print(\"\\n5.Curie the a unit of which of the following?\\n[A] Luminescence\\n[B] Radioactivity\\n[C] Pressure\\n[D] Mass\")\n",
        "\n",
        "      opt=(input(\"Enetr the option\"))\n",
        "      if opt=='A' or opt=='a'  :\n",
        "        score=score+4\n",
        "      else:\n",
        "        score=score-1\n",
        "\n",
        "   \n",
        "      print(\"\\n6.Light year is a unit of which of these following?\\n[A] distance\\n[B] time\\n[C] pressure\\n[D] power\")\n",
        "\n",
        "      opt=(input(\"Enetr the option\"))\n",
        "      if opt=='A' or opt=='a'  :\n",
        "        score=score+4\n",
        "      else:\n",
        "        score=score-1\n",
        "\n",
        "\n",
        "      print(\"\\n7.kg m2is the unit of which of the following physical quantities?\\n[A] Linear Momentum\\n[B] Angular Momentum\\n[C] Angular Impulse\\n[D] Moment of Inertia\")\n",
        "\n",
        "      opt=(input(\"Enetr the option\"))\n",
        "      if opt=='A' or opt=='a'  :\n",
        "        score=score+4\n",
        "      else:\n",
        "        score=score-1\n",
        "\n",
        "\n",
        "      print(\"\\n8.Which of the following represents non-uniform motion?\\n[A] equal displacements in unequal intervals of time\\n[B] unequal displacements in unequal intervals of time\\n[C] equal displacements in equal intervals of time\\n[D] unequal displacements in equal intervals of time\")\n",
        "\n",
        "      opt=(input(\"Enetr the option\"))\n",
        "      if opt=='A' or opt=='a'  :\n",
        "        score=score+4\n",
        "      else:\n",
        "        score=score-1\n",
        "\n",
        "\n",
        "      print(\"\\n9.The equation of motion ‘v = u +at’ can be applied in which of the following cases?\\n[A] simple harmonic motion\\n[B] circular motion\\n[C] when acceleration is constant\\n[D] Both b and c\")\n",
        "\n",
        "      opt=(input(\"Enetr the option\"))\n",
        "      if opt=='A' or opt=='a'  :\n",
        "        score=score+4\n",
        "      else:\n",
        "        score=score-1\n",
        "\n",
        "\n",
        "      print(\"\\n10.Two vectors are said to be equal if:\\n[A] they have equal magnitude and same direction\\n[B] they have equal magnitude and opposite direction\\n[C] they have equal magnitude and common initial point\\n[D] they have equal magnitude irrespective of the direction\")\n",
        "      opt=(input(\"Enetr the option\"))\n",
        "      if opt=='A' or opt=='a'  :\n",
        "        score=score+4\n",
        "      else:\n",
        "        score=score-1\n",
        "      print(\"score is\",score )\n",
        "  elif ch==2:\n",
        "      print(\"\\n 1.Presence of which among the following minerals in Banana makes them slightly radioactive?\\n[A] Sodium\\n[B] Calcium\\n[C] Magnesium\\n[D] Pottasium\")\n",
        "\n",
        "      opt=(input(\"Enetr the option\"))\n",
        "      if opt=='A' or opt=='a'  :\n",
        "        score=score+4\n",
        "      else:\n",
        "        score=score-1\n",
        "\n",
        "\n",
        "      print(\"\\n2.Which of the following is an alkaline earth metal? \\n[A] Pottasium\\n[B] Lead\\n[C] Copper\\n[D] Calcium\")\n",
        "\n",
        "      opt=(input(\"Enetr the option\"))\n",
        "      if opt=='A' or opt=='a'  :\n",
        "        score=score+4\n",
        "      else:\n",
        "        score=score-1\n",
        "\n",
        "\n",
        "      print(\"\\n3.The Alkali metals are called good reducing agents. This implies that__:\\n[A] They easily capture electrons\\n[B] They are not stable at room temperature\\n[C] They easily lose electrons\\n[D] They don’t act with dilute acids\")\n",
        "\n",
        "      opt=(input(\"Enetr the option\"))\n",
        "      if opt=='A' or opt=='a'  :\n",
        "        score=score+4\n",
        "      else:\n",
        "        score=score-1\n",
        "\n",
        "\n",
        "      print(\"\\n4.Which among the following scientists had discovered Radium?\\n[A] Marie and Pierre Curie\\n[B] Andre-Louis Debierne\\n[C] Kasimir Fajans\\[D] Oswald Helmuth Gohring\")\n",
        "\n",
        "      opt=(input(\"Enetr the option\"))\n",
        "      if opt=='A' or opt=='a'  :\n",
        "        score=score+4\n",
        "      else:\n",
        "        score=score-1\n",
        "\n",
        "\n",
        "      print(\"\\n5.Which among the following gas was leaked at Bhopal during the Bhopal gas tragedy at 2-3 December 1984?\\n[A] Methyl isocyanide\\n[B] Methyl isocyanate\\n[C] Methyl isochloride\\n[D] Methyl isochlorate\")\n",
        "\n",
        "      opt=(input(\"Enetr the option\"))\n",
        "      if opt=='A' or opt=='a'  :\n",
        "        score=score+4\n",
        "      else:\n",
        "        score=score-1\n",
        "\n",
        "\n",
        "      print(\"\\n6.Which compound of mercury is used as antiseptic?\\n[A] Mercuric sulphide\\n[B] Mercuric oxide\\n[C] Mercuric chloride\\n[D] Mercuric iodide\")\n",
        "\n",
        "      opt=(input(\"Enetr the option\"))\n",
        "      if opt=='A' or opt=='a'  :\n",
        "        score=score+4\n",
        "      else:\n",
        "        score=score-1\n",
        "\n",
        "\n",
        "      print(\"\\n7.Which among the following is a common salt in Detergents?\\n[A] Sulphate\\n[B] Nitrate\\n[C] Sulphonate\\n[D] Carbonate\\n\")\n",
        "\n",
        "      opt=(input(\"Enetr the option\"))\n",
        "      if opt=='A' or opt=='a'  :\n",
        "        score=score+4\n",
        "      else:\n",
        "        score=score-1\n",
        "\n",
        "\n",
        "      print(\"\\n8.When Sulphur is heated with rubber, the process is commonly known as ?\\n[A] Galvanization\\n[B] Sulphonation\\n[C] Vulcanization\\n[D] Hydrodesulfurization\")\n",
        "\n",
        "      opt=(input(\"Enetr the option\"))\n",
        "      if opt=='A' or opt=='a'  :\n",
        "        score=score+4\n",
        "      else:\n",
        "        score=score-1\n",
        "\n",
        "\n",
        "      print(\"\\n9.Which acid is described as HOOCCOOH?\\n[A] Oxalic Acid\\n[B] Acetic Acid\\n[C] Carbonic Acid\\n[D] Citric Acid\")\n",
        "\n",
        "      opt=(input(\"Enetr the option\"))\n",
        "      if opt=='A' or opt=='a'  :\n",
        "        score=score+4\n",
        "      else:\n",
        "        score=score-1\n",
        "\n",
        "\n",
        "      print(\"\\n10.Which among the following is Quick Silver?\\n[A] Aluminium\\n[B] Mercury\\n[C] Lead\\n[D] Zinc\\n\")\n",
        "\n",
        "      opt=(input(\"Enetr the option\"))\n",
        "      if opt=='A' or opt=='a'  :\n",
        "        score=score+4\n",
        "      else:\n",
        "        score=score-1\n",
        "      print(\"score is\",score )        \n",
        "\n",
        "\n",
        "  elif ch==3:\n",
        "      print(\"\\n1-A line which cuts a pair of parallel lines is called\\n(A) tangent\\n(B) chord\\n(C) traversal\\n(D) intersector\")\n",
        "\n",
        "      opt=(input(\"Enetr the option\"))\n",
        "      if opt=='C' or opt=='c'  :\n",
        "        score=score+4\n",
        "      else:\n",
        "        score=score-1\n",
        " \n",
        "\n",
        "      print(\"\\n2-An angle whose value is ____, is called complete angle.\\n(A) 180°\\n(B) 240°\\n(C) 360°\\n(D) none of the above\")\n",
        "      opt=(input(\"Enetr the option\"))\n",
        "      if opt=='c' or opt=='C'  :\n",
        "        score=score+4\n",
        "      else:\n",
        "        score=score-1\n",
        "\n",
        " \n",
        "\n",
        "      print(\"\\n3-The areas of two similar triangles are 81 sq. cm and 49 sq. cm. Find the ratio of their corresponding heights.\\n(A) 9:7\\n(B) 7:9\\n(C) 6:5\\n(D) 81:49\")\n",
        "\n",
        "      opt=(input(\"Enetr the option\"))\n",
        "      if opt=='A' or opt=='a'  :\n",
        "        score=score+4\n",
        "      else:\n",
        "        score=score-1\n",
        "\n",
        "\n",
        "      print(\"\\n4-Consider ΔABD such that angle ADB = 20° and C is a point on BD such that AB=AC and CD=CA. Then the measure of angle ABC is\\n(A) 30°\\n(B) 40°\\n(C) 45°\\n(D) 60°\")\n",
        "\n",
        "      opt=(input(\"Enetr the option\"))\n",
        "      if opt=='B' or opt=='b'  :\n",
        "        score=score+4\n",
        "      else:\n",
        "        score=score-1\n",
        "\n",
        "\n",
        "      print(\"\\n5-If the length and breadth of a rectangle are increased by a% and b% respectively, then the area will be increased by\\n(A) (a-b+2ab/100)%\\n(B) (a+b+2ab/100)%\\n(C) (a+b+ab/100)%\\n(D) (a-b+ab/100)%\")\n",
        "\n",
        " \n",
        "      opt=(input(\"Enetr the option\"))\n",
        "      if opt=='C' or opt=='c'  :\n",
        "        score=score+4\n",
        "      else:\n",
        "        score=score-1\n",
        "\n",
        " \n",
        "      print(\"\\n6-A, B and C can complete a piece of work in 14, 6 and 12 days respectively. Working together, they will complete the work in\\n(A) 19/9 days\\n(B) 27 days\\n(C) 28/9 days\\n(D) 25/8 days\")\n",
        "\n",
        "      opt=(input(\"Enetr the option\"))\n",
        "      if opt=='c' or opt=='C'  :\n",
        "        score=score+4\n",
        "      else:\n",
        "        score=score-1\n",
        "\n",
        "\n",
        "      print(\"\\n7-If Px = Qy = Rz  and Q/P = R/Q, then 2z/(x+z) = ?\\n(A) y/z\\n(B) y/x\\n(C) x/y\\n(D) z/y\")\n",
        "      opt=(input(\"Enetr the option\"))\n",
        "      if opt=='B' or opt=='b'  :\n",
        "        score=score+4\n",
        "      else:\n",
        "        score=score-1\n",
        "\n",
        " \n",
        "\n",
        "      print(\"\\n8-A shopkeeper purchases 15 mangoes for Rs. 10 and sells them at 10 mangoes for Rs. 15. Thus, he earns a profit of\\n(A) 50%\\n(B) 75%\\n(C) 80%\\n(D) 125%\")\n",
        "\n",
        "      opt=(input(\"Enetr the option\"))\n",
        "      if opt=='D' or opt=='d'  :\n",
        "        score=score+4\n",
        "      else:\n",
        "        score=score-1\n",
        "\n",
        "\n",
        "      print(\"\\n9-4950/6 + 112 x 1.75 = ? x 2\\n(A) 510.5\\n(B) 505.2\\n(C) 515.5\\n(D) none of the above\")\n",
        "      opt=(input(\"Enetr the option\"))\n",
        "      if opt=='A' or opt=='a'  :\n",
        "        score=score+4\n",
        "      else:\n",
        "        score=score-1\n",
        "\n",
        "      print(\"\\n10-An amount of Rs. 10,000 becomes Rs. 20,736 in 2 years. If the rate of interest is compounded half yearly, what is the annual rate of interest?\\n(A) 25%\\n(B) 20%\\n(C) 40%\\n(D) 30%\")\n",
        "      opt=(input(\"Enetr the option\"))\n",
        "      if opt=='C' or opt=='c'  :\n",
        "        score=score+4\n",
        "      else:\n",
        "        score=score-1\n",
        "      print(\"score is\",score )\n",
        "  elif ch==4:\n",
        "             \n",
        "      print(\"\\nGeneral Science - Biology MCQs\")\n",
        "\n",
        "      print(\"\\n1.Which of the following protects the body against infectious disease and foreign invaders?\\n[A] Leukocytes\\n[B] Red blood cells\\n[C] Endoplasmic reticulum (ER)\\n[D] Golgi apparatus\")\n",
        "\n",
        "      opt=(input(\"Enetr the option\"))\n",
        "      if opt=='A' or opt=='a'  :\n",
        "        score=score+4\n",
        "      else:\n",
        "        score=score-1\n",
        "\n",
        "      print(\"\\n2.Which of the following is not a part of the digestive system?\\n[A] Small Intestine\\n[B] Rectum\\n[C] Pharynx\\n[D] Spleen\")\n",
        "\n",
        "      opt=(input(\"Enetr the option\"))\n",
        "      if opt=='A' or opt=='a'  :\n",
        "        score=score+4\n",
        "      else:\n",
        "        score=score-1\n",
        "\n",
        "      print(\"\\n3.What is the core objective of World Bank supported STRIVE project in India?\\n[A] Elimination of Malaria\\n[B] Elimination of HIV/ AIDS\\n[C] Skill Development\\n[D] Rural Infrastructure Development\")\n",
        "\n",
        "      opt=(input(\"Enetr the option\"))\n",
        "      if opt=='A' or opt=='a'  :\n",
        "        score=score+4\n",
        "      else:\n",
        "        score=score-1\n",
        "\n",
        "      print(\"\\n4.The terms Hypoglycemia and Hyperglycemia are related to which among the following?\\n[A] Body Fat\\n[B] Blood Sugar\\n[C] Metabolism of sugar galactose\\n[D] Respiration\")\n",
        "\n",
        "      opt=(input(\"Enetr the option\"))\n",
        "      if opt=='A' or opt=='a'  :\n",
        "        score=score+4\n",
        "      else:\n",
        "        score=score-1\n",
        "\n",
        "      print(\"\\n5.Calcitriol is the biologically active form of which among the following Vitamins?\\n[A] Vitamin B\\n[B] Vitamin C\\n[C] Vitamin D\\n[D] Vitamin E\")\n",
        "\n",
        "      opt=(input(\"Enetr the option\"))\n",
        "      if opt=='A' or opt=='a'  :\n",
        "        score=score+4\n",
        "      else:\n",
        "        score=score-1\n",
        "\n",
        "      print(\"\\n6.Which among the following is the most common media of pollination in flowers without petals?\\n[A] Wind\\n[B] Water\\n[C] Insects\\n[D] All of above\")\n",
        "      opt=(input(\"Enetr the option\"))\n",
        "      if opt=='A' or opt=='a'  :\n",
        "        score=score+4\n",
        "      else:\n",
        "        score=score-1\n",
        "\n",
        "      print(\"\\n7.Which among the following Vitamins helps in clotting of Blood?\\n[A] Vitamin C\\n[B] Vitamin D\\n[C] Vitamin E\\n[D] Vitamin K\")\n",
        "\n",
        "      opt=(input(\"Enetr the option\"))\n",
        "      if opt=='A' or opt=='a'  :\n",
        "        score=score+4\n",
        "      else:\n",
        "        score=score-1\n",
        "\n",
        "      print(\"\\n8.Which among the following diseases is characterized by “complete loss of memory”?\\n[A] Amnesia\\n[B] Schizophrenia\\n[C] Alzheimer’s disease\\n[D] Parkinson’s disease\")\n",
        "      opt=(input(\"Enetr the option\"))\n",
        "      if opt=='A' or opt=='a'  :\n",
        "        score=score+4\n",
        "      else:\n",
        "        score=score-1\n",
        "\n",
        "      print(\"\\n9.The branch of science Herpatology deals with the study of?\\n[A] Fishes\\n[B] Insects\\n[C] Snakes\\n[D] Amphibians and Reptiles\")\n",
        "\n",
        "      opt=(input(\"Enetr the option\"))\n",
        "      if opt=='A' or opt=='a'  :\n",
        "        score=score+4\n",
        "      else:\n",
        "        score=score-1\n",
        "\n",
        "      print(\"\\n10.Which of the following is the source of adult human stem cell?\\n[A] Liver\\n[B] Bone Marrow\\n[C] Brain\\n[D] Medulla\")\n",
        "\n",
        "      opt=(input(\"Enetr the option\"))\n",
        "      if opt=='A' or opt=='a'  :\n",
        "        score=score+4\n",
        "      else:\n",
        "        score=score-1\n",
        "      print(\"score is\",score )\n",
        "  elif ch==5:\n",
        "      exit(0)\n",
        "  else:\n",
        "     print(\"INVALID CHOICE\")    \n",
        "  \n",
        "else:\n",
        "    print(\"enter your valid information\")\n",
        "print(\"\\ntotal score=\",score)    \n",
        "\n"
      ]
    },
    {
      "cell_type": "code",
      "execution_count": null,
      "metadata": {
        "id": "e-Cgdom0oc-U"
      },
      "outputs": [],
      "source": [
        "#Hang man\n",
        "\n",
        "import random \n",
        "  \n",
        "name = input(\"Enter your name \")  \n",
        "print(\"\\nGUESS the WORD\\nYou have only got 10 chaces so think and guess the word \")\n",
        "  \n",
        "print(\"\\nGood luck ! \", name) \n",
        "  \n",
        "words = ['rainbow', 'computer', 'science', 'programming',  \n",
        "         'python', 'mathematics', 'player', 'condition',  \n",
        "         'reverse', 'water', 'board', \"abruptly\",\"absurd\",\"abyss\",\n",
        "         \"affix\",\"askew\",\"avenue\",\"awkward\",\"axiom\",\"azure\",\"bagpipes\",\n",
        "         \"bandwagon\",\"banjo\",\"bayou\",\"beekeeper\",\"bike\",\"blitz\",\"blizzard\",\n",
        "         \"boggle\",\"bookworm\",\"boxcar\",\"boxful\",\"buckaroo\",\"buffalo\",\"buffoon\",\n",
        "         \"buxom\",\"buzzard\",\"buzzing\",\"buzzwords\",\"caliph\",\"cobweb\",\"cardreader\",\n",
        "         \"croquet\",\"crypt\",\"curacao\",\"cycle\",\"daiquiri\",\"dirndl\",\"disavow\",\n",
        "         \"dizzying\",\"duplex\",\"dwarves\",\"embezzle\",\"equip\",\"espionage\",\"euouae\",\n",
        "         \"exodus\",\"faking\",\"fishhook\",\"fixable\",\"fjord\",\"flapjack\",\"flopping\",\n",
        "         \"fluffiness\",\"flyby\",\"foxglove\",\"frazzled\",\"frizzled\",\"fuchsia\",\n",
        "         \"funny\",\"gabb\",\"galaxy\",\"galvanize\",\"gazebo\",\"giaour\",\"gizmo\",\n",
        "         \"glowworm\",\"glyph\",\"gnarly\",\"gnostic\",\"gossip\",\"grogginess\",\n",
        "         \"haiku\",\"haphazard\",\"hyphen\",\"iatrogenic\",\"icebox\",\"injury\",\n",
        "         \"ivory\",\"ivy\",\"jackpot\",\"jaundice\",\"jawbreaker\",\"jaywalk\",\n",
        "         \"jazziest\",\"jazzy\",\"jelly\",\"jigsaw\",\"jinx\",\"jiujitsu\",\n",
        "         \"jockey\",\"jogging\",\"joking\",\"jovial\",\"joyful\",\"juicy\",\n",
        "         \"jukebox\",\"jumbo\",\"kayak\",\"kazoo\",\"keyhole\",\"khaki\",\n",
        "         \"kilobyte\",\"kiosk\",\"kitsch\",\"kiwifruit\",\"klutz\",\n",
        "         \"knapsack\",\"larynx\",\"lengths\",\"laugh\",\"synth\"]  \n",
        "   \n",
        "word = random.choice(words) \n",
        "print(\"Guess the characters\") \n",
        "  \n",
        "guesses = '' \n",
        "  \n",
        "#number of chances can be used here \n",
        "chances = 10\n",
        "  \n",
        "  \n",
        "while chances > 0: \n",
        "      \n",
        "    # number of times a user fails \n",
        "    failed = 0\n",
        "    for char in word:  \n",
        "        if char in guesses:  \n",
        "            print(char,end=\" \") \n",
        "              \n",
        "        else:  \n",
        "            print(\"_\",end=\" \") \n",
        "            failed += 1\n",
        "              \n",
        "  \n",
        "    if failed == 0: \n",
        "        print(\"You Win\")  \n",
        "        print(\"The word is: \", word)  \n",
        "        break\n",
        "      \n",
        "    # if user has input the wrong alphabet then , it will ask user to enter another alphabet \n",
        "    guess = input(\"guess a character:\") \n",
        "      \n",
        "    # every input character will be stored in guesses  \n",
        "    guesses += guess  \n",
        "      \n",
        "    # check input with the character in word \n",
        "    if guess not in word:           \n",
        "        chances -= 1\n",
        "        print(\"Wrong\") \n",
        "        print(\"You have\", + chances, 'more guesses') \n",
        "           \n",
        "        if chances == 0: \n",
        "            print(\"!!!!You Loose!!!!\") "
      ]
    },
    {
      "cell_type": "code",
      "execution_count": null,
      "metadata": {
        "id": "GX1IM1tMYAtl"
      },
      "outputs": [],
      "source": [
        "# login id #partially complete\n",
        "def check():\n",
        "\n",
        "    username = str(input(\"Username: \"))\n",
        "    password = str(input(\"Password: \"))\n",
        "\n",
        "    f = open(\"users.txt\", \"r\")\n",
        "    file_content = f.read()\n",
        "    users = file_content.split(\"\\n\")\n",
        "    for user in users:\n",
        "        user_array = user.split(\"|\")\n",
        "        uname = user_array[4]\n",
        "        pword = user_array[5]\n",
        "        if uname == username and pword == password:\n",
        "            print(\"Hello \" + user_array[1] + \".\")\n",
        "            print(\"You are logged in as: \" + user_array[2] + \".\")\n",
        "            main_menu()\n",
        "        else:\n",
        "            print(\"Wrong username/password.\")\n",
        "            print(\"Try again!\\n\\n\")\n",
        "            check()\n",
        "check()"
      ]
    },
    {
      "cell_type": "code",
      "execution_count": null,
      "metadata": {
        "id": "mMCM2sSarl0s"
      },
      "outputs": [],
      "source": [
        "def audio_int(num_samples=50):\n",
        "    \"\"\" Gets average audio intensity of your mic sound. You can use it to get\n",
        "        average intensities while you're talking and/or silent. The average\n",
        "        is the avg of the 20% largest intensities recorded.\n",
        "    \"\"\"\n",
        "        \n",
        "    p = pyaudio.PyAudio()\n",
        "\n",
        "    stream = p.open(format=FORMAT,\n",
        "                    channels=CHANNELS,\n",
        "                    rate=RATE,\n",
        "                    input=True,\n",
        "                    frames_per_buffer=CHUNK)\n",
        "\n",
        "    values = [math.sqrt(abs(audioop.avg(stream.read(CHUNK), 4))) \n",
        "              for x in range(num_samples)] \n",
        "    values = sorted(values, reverse=True)\n",
        "    r = sum(values[:int(num_samples * 0.2)]) / int(num_samples * 0.2)\n",
        "    print(\" Average audio intensity is \", r)\n",
        "    stream.close()\n",
        "    p.terminate()\n",
        "    \n",
        "    if r > THRESHOLD:\n",
        "        listen(0)\n",
        "    \n",
        "    threading.Timer(SILENCE_LIMIT, audio_int).start()\n",
        "    def listen(x):\n",
        "     r=rs.Recognizer()\n",
        "    if x == 0:\n",
        "        system('say Hi. How can I help?')\n",
        "    with rs.Microphone() as source:\n",
        "        audio=r.listen(source)\n",
        "    try:\n",
        "        text = r.recognize_google(audio)\n",
        "        y = process(text.lower())\n",
        "        return(y)\n",
        "    except:\n",
        "        if x == 1:\n",
        "            system('say Good Bye!')\n",
        "        else:\n",
        "            system('say I did not get that. Please say again.')\n",
        "            listen(1)\n",
        "\n",
        "            system('say \"Put your command here\"')"
      ]
    },
    {
      "cell_type": "code",
      "execution_count": null,
      "metadata": {
        "colab": {
          "base_uri": "https://localhost:8080/",
          "height": 84
        },
        "id": "z2pWJxie0IRn",
        "outputId": "eec6c773-5b1c-43c0-ddf8-1b385be56d14"
      },
      "outputs": [
        {
          "name": "stdout",
          "output_type": "stream",
          "text": [
            "Enter the marks of 10 students5,6,7,8,9,10,11,12,13,14\n",
            "\n",
            "sum is: 95 \n",
            "avg is : 9.5\n"
          ]
        }
      ],
      "source": [
        "# sum and avg in python\n",
        "sum=0\n",
        "avg=0.0\n",
        "L=eval(input(\"Enter the marks of 10 students\"))\n",
        "for i in range(0,len(L)):\n",
        "  sum=sum+L[i]\n",
        "avg=sum/len(L)\n",
        "print(\"\\nsum is:\",sum,\"\\navg is :\",avg)  \n"
      ]
    },
    {
      "cell_type": "code",
      "execution_count": null,
      "metadata": {
        "colab": {
          "base_uri": "https://localhost:8080/",
          "height": 50
        },
        "id": "G82qTnZpTjbh",
        "outputId": "b3d13aa6-09c7-4034-f5c5-ff3ba4754ad3"
      },
      "outputs": [
        {
          "name": "stdout",
          "output_type": "stream",
          "text": [
            "Enter tuple elements(5,6,7,8)\n",
            "5 6 7 8 "
          ]
        }
      ],
      "source": [
        "t=eval(input(\"Enter tuple elements\"))\n",
        "#l=eval(\"Enterlistelements\") \n",
        "for x in t:\n",
        "  print(x,end=\" \")\n"
      ]
    },
    {
      "cell_type": "code",
      "execution_count": null,
      "metadata": {
        "id": "msFcVj_VWAQc"
      },
      "outputs": [],
      "source": [
        "t=eval(input(\"Enter tuple elements\"))\n",
        "y=0\n",
        "print(\"tuple lements are:\",t)\n",
        "for x in t:\n",
        "  if x>y:\n",
        "    y=x\n",
        "print(\"\\nmax of tuple is:\",y)  \n",
        "for x in t:\n",
        "  if x<y:\n",
        "    y=x\n",
        "print(\"\\nmin of tuple is:\",y) \n"
      ]
    },
    {
      "cell_type": "code",
      "execution_count": null,
      "metadata": {
        "id": "1YG7zk1AY4u2"
      },
      "outputs": [],
      "source": [
        "t=eval(input(\"Enter 5 tuple elements\"))\n",
        "for x in t:\n",
        "  x=x*x\n",
        "  print(\"\\square of tuple elements are:\",x)\n",
        "  \n",
        "\n"
      ]
    },
    {
      "cell_type": "code",
      "execution_count": null,
      "metadata": {
        "id": "YVilXufYaBA7"
      },
      "outputs": [],
      "source": [
        "t=eval(input(\"Enter 5 tuple elements\"))\n",
        "\n",
        "for x in t:\n",
        "  if x%2==0:\n",
        "    print(\"Even :\",x,end=\" \")\n",
        "    \n",
        "  else:\n",
        "    print(\"\\n odd :\",x)      \n",
        "\n"
      ]
    },
    {
      "cell_type": "code",
      "execution_count": null,
      "metadata": {
        "id": "m7aOp910lb03"
      },
      "outputs": [],
      "source": [
        "\n",
        "# Creating a Dictionary  \n",
        "# with Integer Keys \n",
        "Dict = {1: 'Geeks', 2: 'For', 3: 'Geeks'} \n",
        "print(\"\\nDictionary with the use of Integer Keys: \") \n",
        "print(Dict) \n",
        "  \n",
        "# Creating a Dictionary  \n",
        "# with Mixed keys \n",
        "Dict = {'Name': 'Geeks', 1: [1, 2, 3, 4]} \n",
        "print(\"\\nDictionary with the use of Mixed Keys: \") \n",
        "print(Dict) "
      ]
    },
    {
      "cell_type": "code",
      "execution_count": null,
      "metadata": {
        "id": "QTTulwyfyjCc"
      },
      "outputs": [],
      "source": [
        "r"
      ]
    },
    {
      "cell_type": "code",
      "execution_count": null,
      "metadata": {
        "colab": {
          "base_uri": "https://localhost:8080/"
        },
        "id": "qiAqBQ3zvm59",
        "outputId": "e9d99f10-0c60-4960-b37b-48a5ce714f8b"
      },
      "outputs": [
        {
          "name": "stdout",
          "output_type": "stream",
          "text": [
            "Hi i'm Friday your assistantmlh\n"
          ]
        }
      ],
      "source": [
        "#BASIC AI SOFTWARE\n",
        "import time\n",
        "import webbrowser \n",
        "text=input(\"Hi i'm Friday your assistant\")\n",
        "if \"ghar\" in text:\n",
        "  print(\"Please wait  for a moment finding answer for yor question \")\n",
        "  time.sleep(1)\n",
        "  webbrowser.open(\"www.google.co.in\")\n"
      ]
    },
    {
      "cell_type": "code",
      "execution_count": null,
      "metadata": {
        "colab": {
          "base_uri": "https://localhost:8080/",
          "height": 370
        },
        "id": "2llbUgldlvng",
        "outputId": "f7759ce4-d557-40b2-dd28-f48cf48edca9"
      },
      "outputs": [
        {
          "ename": "TclError",
          "evalue": "ignored",
          "output_type": "error",
          "traceback": [
            "\u001b[0;31m---------------------------------------------------------------------------\u001b[0m",
            "\u001b[0;31mTclError\u001b[0m                                  Traceback (most recent call last)",
            "\u001b[0;32m<ipython-input-12-d25708949e74>\u001b[0m in \u001b[0;36m<module>\u001b[0;34m()\u001b[0m\n\u001b[1;32m      3\u001b[0m \u001b[0;34m\u001b[0m\u001b[0m\n\u001b[1;32m      4\u001b[0m \u001b[0;31m# set screen\u001b[0m\u001b[0;34m\u001b[0m\u001b[0;34m\u001b[0m\u001b[0;34m\u001b[0m\u001b[0m\n\u001b[0;32m----> 5\u001b[0;31m \u001b[0mScreen\u001b[0m \u001b[0;34m=\u001b[0m \u001b[0mturtle\u001b[0m\u001b[0;34m.\u001b[0m\u001b[0mTurtle\u001b[0m\u001b[0;34m(\u001b[0m\u001b[0;34m)\u001b[0m\u001b[0;34m\u001b[0m\u001b[0;34m\u001b[0m\u001b[0m\n\u001b[0m\u001b[1;32m      6\u001b[0m \u001b[0;34m\u001b[0m\u001b[0m\n\u001b[1;32m      7\u001b[0m \u001b[0;31m# decide colors\u001b[0m\u001b[0;34m\u001b[0m\u001b[0;34m\u001b[0m\u001b[0;34m\u001b[0m\u001b[0m\n",
            "\u001b[0;32m/usr/lib/python3.7/turtle.py\u001b[0m in \u001b[0;36m__init__\u001b[0;34m(self, shape, undobuffersize, visible)\u001b[0m\n\u001b[1;32m   3810\u001b[0m                  visible=_CFG[\"visible\"]):\n\u001b[1;32m   3811\u001b[0m         \u001b[0;32mif\u001b[0m \u001b[0mTurtle\u001b[0m\u001b[0;34m.\u001b[0m\u001b[0m_screen\u001b[0m \u001b[0;32mis\u001b[0m \u001b[0;32mNone\u001b[0m\u001b[0;34m:\u001b[0m\u001b[0;34m\u001b[0m\u001b[0;34m\u001b[0m\u001b[0m\n\u001b[0;32m-> 3812\u001b[0;31m             \u001b[0mTurtle\u001b[0m\u001b[0;34m.\u001b[0m\u001b[0m_screen\u001b[0m \u001b[0;34m=\u001b[0m \u001b[0mScreen\u001b[0m\u001b[0;34m(\u001b[0m\u001b[0;34m)\u001b[0m\u001b[0;34m\u001b[0m\u001b[0;34m\u001b[0m\u001b[0m\n\u001b[0m\u001b[1;32m   3813\u001b[0m         RawTurtle.__init__(self, Turtle._screen,\n\u001b[1;32m   3814\u001b[0m                            \u001b[0mshape\u001b[0m\u001b[0;34m=\u001b[0m\u001b[0mshape\u001b[0m\u001b[0;34m,\u001b[0m\u001b[0;34m\u001b[0m\u001b[0;34m\u001b[0m\u001b[0m\n",
            "\u001b[0;32m/usr/lib/python3.7/turtle.py\u001b[0m in \u001b[0;36mScreen\u001b[0;34m()\u001b[0m\n\u001b[1;32m   3660\u001b[0m     else return the existing one.\"\"\"\n\u001b[1;32m   3661\u001b[0m     \u001b[0;32mif\u001b[0m \u001b[0mTurtle\u001b[0m\u001b[0;34m.\u001b[0m\u001b[0m_screen\u001b[0m \u001b[0;32mis\u001b[0m \u001b[0;32mNone\u001b[0m\u001b[0;34m:\u001b[0m\u001b[0;34m\u001b[0m\u001b[0;34m\u001b[0m\u001b[0m\n\u001b[0;32m-> 3662\u001b[0;31m         \u001b[0mTurtle\u001b[0m\u001b[0;34m.\u001b[0m\u001b[0m_screen\u001b[0m \u001b[0;34m=\u001b[0m \u001b[0m_Screen\u001b[0m\u001b[0;34m(\u001b[0m\u001b[0;34m)\u001b[0m\u001b[0;34m\u001b[0m\u001b[0;34m\u001b[0m\u001b[0m\n\u001b[0m\u001b[1;32m   3663\u001b[0m     \u001b[0;32mreturn\u001b[0m \u001b[0mTurtle\u001b[0m\u001b[0;34m.\u001b[0m\u001b[0m_screen\u001b[0m\u001b[0;34m\u001b[0m\u001b[0;34m\u001b[0m\u001b[0m\n\u001b[1;32m   3664\u001b[0m \u001b[0;34m\u001b[0m\u001b[0m\n",
            "\u001b[0;32m/usr/lib/python3.7/turtle.py\u001b[0m in \u001b[0;36m__init__\u001b[0;34m(self)\u001b[0m\n\u001b[1;32m   3676\u001b[0m         \u001b[0;31m# preserved (perhaps by passing it as an optional parameter)\u001b[0m\u001b[0;34m\u001b[0m\u001b[0;34m\u001b[0m\u001b[0;34m\u001b[0m\u001b[0m\n\u001b[1;32m   3677\u001b[0m         \u001b[0;32mif\u001b[0m \u001b[0m_Screen\u001b[0m\u001b[0;34m.\u001b[0m\u001b[0m_root\u001b[0m \u001b[0;32mis\u001b[0m \u001b[0;32mNone\u001b[0m\u001b[0;34m:\u001b[0m\u001b[0;34m\u001b[0m\u001b[0;34m\u001b[0m\u001b[0m\n\u001b[0;32m-> 3678\u001b[0;31m             \u001b[0m_Screen\u001b[0m\u001b[0;34m.\u001b[0m\u001b[0m_root\u001b[0m \u001b[0;34m=\u001b[0m \u001b[0mself\u001b[0m\u001b[0;34m.\u001b[0m\u001b[0m_root\u001b[0m \u001b[0;34m=\u001b[0m \u001b[0m_Root\u001b[0m\u001b[0;34m(\u001b[0m\u001b[0;34m)\u001b[0m\u001b[0;34m\u001b[0m\u001b[0;34m\u001b[0m\u001b[0m\n\u001b[0m\u001b[1;32m   3679\u001b[0m             \u001b[0mself\u001b[0m\u001b[0;34m.\u001b[0m\u001b[0m_root\u001b[0m\u001b[0;34m.\u001b[0m\u001b[0mtitle\u001b[0m\u001b[0;34m(\u001b[0m\u001b[0m_Screen\u001b[0m\u001b[0;34m.\u001b[0m\u001b[0m_title\u001b[0m\u001b[0;34m)\u001b[0m\u001b[0;34m\u001b[0m\u001b[0;34m\u001b[0m\u001b[0m\n\u001b[1;32m   3680\u001b[0m             \u001b[0mself\u001b[0m\u001b[0;34m.\u001b[0m\u001b[0m_root\u001b[0m\u001b[0;34m.\u001b[0m\u001b[0mondestroy\u001b[0m\u001b[0;34m(\u001b[0m\u001b[0mself\u001b[0m\u001b[0;34m.\u001b[0m\u001b[0m_destroy\u001b[0m\u001b[0;34m)\u001b[0m\u001b[0;34m\u001b[0m\u001b[0;34m\u001b[0m\u001b[0m\n",
            "\u001b[0;32m/usr/lib/python3.7/turtle.py\u001b[0m in \u001b[0;36m__init__\u001b[0;34m(self)\u001b[0m\n\u001b[1;32m    432\u001b[0m     \u001b[0;34m\"\"\"Root class for Screen based on Tkinter.\"\"\"\u001b[0m\u001b[0;34m\u001b[0m\u001b[0;34m\u001b[0m\u001b[0m\n\u001b[1;32m    433\u001b[0m     \u001b[0;32mdef\u001b[0m \u001b[0m__init__\u001b[0m\u001b[0;34m(\u001b[0m\u001b[0mself\u001b[0m\u001b[0;34m)\u001b[0m\u001b[0;34m:\u001b[0m\u001b[0;34m\u001b[0m\u001b[0;34m\u001b[0m\u001b[0m\n\u001b[0;32m--> 434\u001b[0;31m         \u001b[0mTK\u001b[0m\u001b[0;34m.\u001b[0m\u001b[0mTk\u001b[0m\u001b[0;34m.\u001b[0m\u001b[0m__init__\u001b[0m\u001b[0;34m(\u001b[0m\u001b[0mself\u001b[0m\u001b[0;34m)\u001b[0m\u001b[0;34m\u001b[0m\u001b[0;34m\u001b[0m\u001b[0m\n\u001b[0m\u001b[1;32m    435\u001b[0m \u001b[0;34m\u001b[0m\u001b[0m\n\u001b[1;32m    436\u001b[0m     \u001b[0;32mdef\u001b[0m \u001b[0msetupcanvas\u001b[0m\u001b[0;34m(\u001b[0m\u001b[0mself\u001b[0m\u001b[0;34m,\u001b[0m \u001b[0mwidth\u001b[0m\u001b[0;34m,\u001b[0m \u001b[0mheight\u001b[0m\u001b[0;34m,\u001b[0m \u001b[0mcwidth\u001b[0m\u001b[0;34m,\u001b[0m \u001b[0mcheight\u001b[0m\u001b[0;34m)\u001b[0m\u001b[0;34m:\u001b[0m\u001b[0;34m\u001b[0m\u001b[0;34m\u001b[0m\u001b[0m\n",
            "\u001b[0;32m/usr/lib/python3.7/tkinter/__init__.py\u001b[0m in \u001b[0;36m__init__\u001b[0;34m(self, screenName, baseName, className, useTk, sync, use)\u001b[0m\n\u001b[1;32m   2021\u001b[0m                 \u001b[0mbaseName\u001b[0m \u001b[0;34m=\u001b[0m \u001b[0mbaseName\u001b[0m \u001b[0;34m+\u001b[0m \u001b[0mext\u001b[0m\u001b[0;34m\u001b[0m\u001b[0;34m\u001b[0m\u001b[0m\n\u001b[1;32m   2022\u001b[0m         \u001b[0minteractive\u001b[0m \u001b[0;34m=\u001b[0m \u001b[0;36m0\u001b[0m\u001b[0;34m\u001b[0m\u001b[0;34m\u001b[0m\u001b[0m\n\u001b[0;32m-> 2023\u001b[0;31m         \u001b[0mself\u001b[0m\u001b[0;34m.\u001b[0m\u001b[0mtk\u001b[0m \u001b[0;34m=\u001b[0m \u001b[0m_tkinter\u001b[0m\u001b[0;34m.\u001b[0m\u001b[0mcreate\u001b[0m\u001b[0;34m(\u001b[0m\u001b[0mscreenName\u001b[0m\u001b[0;34m,\u001b[0m \u001b[0mbaseName\u001b[0m\u001b[0;34m,\u001b[0m \u001b[0mclassName\u001b[0m\u001b[0;34m,\u001b[0m \u001b[0minteractive\u001b[0m\u001b[0;34m,\u001b[0m \u001b[0mwantobjects\u001b[0m\u001b[0;34m,\u001b[0m \u001b[0museTk\u001b[0m\u001b[0;34m,\u001b[0m \u001b[0msync\u001b[0m\u001b[0;34m,\u001b[0m \u001b[0muse\u001b[0m\u001b[0;34m)\u001b[0m\u001b[0;34m\u001b[0m\u001b[0;34m\u001b[0m\u001b[0m\n\u001b[0m\u001b[1;32m   2024\u001b[0m         \u001b[0;32mif\u001b[0m \u001b[0museTk\u001b[0m\u001b[0;34m:\u001b[0m\u001b[0;34m\u001b[0m\u001b[0;34m\u001b[0m\u001b[0m\n\u001b[1;32m   2025\u001b[0m             \u001b[0mself\u001b[0m\u001b[0;34m.\u001b[0m\u001b[0m_loadtk\u001b[0m\u001b[0;34m(\u001b[0m\u001b[0;34m)\u001b[0m\u001b[0;34m\u001b[0m\u001b[0;34m\u001b[0m\u001b[0m\n",
            "\u001b[0;31mTclError\u001b[0m: no display name and no $DISPLAY environment variable"
          ]
        }
      ],
      "source": [
        "#import turtle\n",
        "import turtle\n",
        "\n",
        "# set screen\n",
        "Screen = turtle.Turtle()\n",
        "\n",
        "# decide colors\n",
        "cir= ['red','green','blue','yellow','purple']\n",
        "\n",
        "# decide pensize\n",
        "turtle.pensize(4)\n",
        "\n",
        "# Draw star pattern\n",
        "turtle.penup()\n",
        "turtle.setpos(-90,30)\n",
        "turtle.pendown()\n",
        "for i in range(5):\n",
        "\tturtle.pencolor(cir[i])\n",
        "\tturtle.forward(200)\n",
        "\tturtle.right(144)\n",
        "\n",
        "turtle.penup()\n",
        "turtle.setpos(80,-140)\n",
        "turtle.pendown()\n",
        "\n",
        "# choose pen color\n",
        "turtle.pencolor(\"Black\")\n",
        "turtle.done()\n"
      ]
    },
    {
      "cell_type": "code",
      "execution_count": null,
      "metadata": {
        "colab": {
          "base_uri": "https://localhost:8080/"
        },
        "id": "IbzAuGn0ml_u",
        "outputId": "d4e366db-15e5-4a29-953b-46b4f33b0e4e"
      },
      "outputs": [
        {
          "name": "stdout",
          "output_type": "stream",
          "text": [
            "What is your name, HaCKaToOnEr ?\n",
            "prathima\n",
            "Welcome  to Toonslate island  , prathimaLet us go on a Minecraft quest!\n",
            "You find yourself in front of a abandoned mineshaft.\n",
            "Can you find your way to explore the shaft and find the treasure chest ?\n",
            "\n",
            "Would you like to go inside the Mineshaft?\n",
            "yes/no\n",
            "yes\n",
            "You head into the Mineshaft. You hear grumbling sound of zombies,hissing sound of spidersand rattling of skeletons.\n",
            "\n",
            "To your left, you see a skeleton  with a golden armor and a bow  .\n",
            "To your right, there is a way to go more inside the shaft.\n",
            "There is a cobble stone wall directly in front of you.\n",
            "Behind you is the mineshaft exit.\n",
            "\n",
            "What direction would you like to move?\n",
            "left/right/forward/backward\n",
            "right\n",
            "You head deeper into the mineshaft and find the treasure chest ,Kudos!!!.\n",
            "\n"
          ]
        }
      ],
      "source": [
        "# Setup\n",
        "opt = [\"yes\", \"no\"]\n",
        "directions = [\"left\", \"right\", \"forward\", \"backward\"]\n",
        " \n",
        "# Introduction\n",
        "name = input(\"What is your name, HaCKaToOnEr ?\\n\")\n",
        "print(\"Welcome  to Toonslate island  , \" + name + \"  Let us go on a Minecraft quest!\")\n",
        "print(\"You find yourself in front of a abandoned mineshaft.\")\n",
        "print(\"Can you find your way to explore the shaft and find the treasure chest ?\\n\")\n",
        " \n",
        "# Start of game\n",
        "response = \"\"\n",
        "while response not in opt:\n",
        "    response = input(\"Would you like to go inside the Mineshaft?\\nyes/no\\n\")\n",
        "    if response == \"yes\":\n",
        "        print(\"You head into the Mineshaft. You hear grumbling sound of zombies,hissing sound of spidersand rattling of skeletons.\\n\")\n",
        "    elif response == \"no\":\n",
        "        print(\"You are not ready for this quest. Goodbye, \" + name + \".\")\n",
        "        quit()\n",
        "    else: \n",
        "        print(\"I didn't understand that.\\n\")\n",
        " \n",
        "# Next part of game\n",
        "response = \"\"\n",
        "while response not in directions:\n",
        "    print(\"To your left, you see a skeleton  with a golden armor and a bow  .\")\n",
        "    print(\"To your right, there is a way to go more inside the shaft.\")\n",
        "    print(\"There is a cobble stone wall directly in front of you.\")\n",
        "    print(\"Behind you is the mineshaft exit.\\n\")\n",
        "    response = input(\"What direction would you like to move?\\nleft/right/forward/backward\\n\")\n",
        "    if response == \"left\":\n",
        "        print(name+\" was shot by an arrow. Farewell :( \")\n",
        "        quit()\n",
        "    elif response == \"right\":\n",
        "        print(\"You head deeper into the mineshaft and find the treasure chest ,Kudos!!!.\\n\")\n",
        "    elif response == \"forward\":\n",
        "        print(\"You broke the stone walls and find out it was a spider spawner, spiders slain you to deeath\\n\")\n",
        "        response = \"\" \n",
        "    elif response == \"backward\":\n",
        "        print(\"You leave the mineshaft un explored . Goodbye, \" + name + \".\")\n",
        "        quit()\n",
        "    else:\n",
        "        print(\"I didn't understand that.\\n\")\n"
      ]
    },
    {
      "cell_type": "code",
      "execution_count": null,
      "metadata": {
        "colab": {
          "base_uri": "https://localhost:8080/",
          "height": 673
        },
        "id": "MNQ67C0mnVXo",
        "outputId": "5bddb332-c0a9-4c93-c88d-adf050693c83"
      },
      "outputs": [
        {
          "name": "stdout",
          "output_type": "stream",
          "text": [
            "Guess heads by entering 1 or tails by entering 2 for this coin flip.\n",
            "1\n",
            "you guessed tails.\n",
            "The coin landed on Tails.\n",
            "Sorry your guess was wrong.\n",
            "You have guessed 1 times.\n",
            "Would you would like to guess again enter 1 or enter 2 to exit?\n",
            "2\n",
            "Guess heads by entering 1 or tails by entering 2 for this coin flip.\n"
          ]
        },
        {
          "ename": "KeyboardInterrupt",
          "evalue": "ignored",
          "output_type": "error",
          "traceback": [
            "\u001b[0;31m---------------------------------------------------------------------------\u001b[0m",
            "\u001b[0;31mKeyboardInterrupt\u001b[0m                         Traceback (most recent call last)",
            "\u001b[0;32m/usr/local/lib/python3.7/dist-packages/ipykernel/kernelbase.py\u001b[0m in \u001b[0;36m_input_request\u001b[0;34m(self, prompt, ident, parent, password)\u001b[0m\n\u001b[1;32m    728\u001b[0m             \u001b[0;32mtry\u001b[0m\u001b[0;34m:\u001b[0m\u001b[0;34m\u001b[0m\u001b[0;34m\u001b[0m\u001b[0m\n\u001b[0;32m--> 729\u001b[0;31m                 \u001b[0mident\u001b[0m\u001b[0;34m,\u001b[0m \u001b[0mreply\u001b[0m \u001b[0;34m=\u001b[0m \u001b[0mself\u001b[0m\u001b[0;34m.\u001b[0m\u001b[0msession\u001b[0m\u001b[0;34m.\u001b[0m\u001b[0mrecv\u001b[0m\u001b[0;34m(\u001b[0m\u001b[0mself\u001b[0m\u001b[0;34m.\u001b[0m\u001b[0mstdin_socket\u001b[0m\u001b[0;34m,\u001b[0m \u001b[0;36m0\u001b[0m\u001b[0;34m)\u001b[0m\u001b[0;34m\u001b[0m\u001b[0;34m\u001b[0m\u001b[0m\n\u001b[0m\u001b[1;32m    730\u001b[0m             \u001b[0;32mexcept\u001b[0m \u001b[0mException\u001b[0m\u001b[0;34m:\u001b[0m\u001b[0;34m\u001b[0m\u001b[0;34m\u001b[0m\u001b[0m\n",
            "\u001b[0;32m/usr/local/lib/python3.7/dist-packages/jupyter_client/session.py\u001b[0m in \u001b[0;36mrecv\u001b[0;34m(self, socket, mode, content, copy)\u001b[0m\n\u001b[1;32m    802\u001b[0m         \u001b[0;32mtry\u001b[0m\u001b[0;34m:\u001b[0m\u001b[0;34m\u001b[0m\u001b[0;34m\u001b[0m\u001b[0m\n\u001b[0;32m--> 803\u001b[0;31m             \u001b[0mmsg_list\u001b[0m \u001b[0;34m=\u001b[0m \u001b[0msocket\u001b[0m\u001b[0;34m.\u001b[0m\u001b[0mrecv_multipart\u001b[0m\u001b[0;34m(\u001b[0m\u001b[0mmode\u001b[0m\u001b[0;34m,\u001b[0m \u001b[0mcopy\u001b[0m\u001b[0;34m=\u001b[0m\u001b[0mcopy\u001b[0m\u001b[0;34m)\u001b[0m\u001b[0;34m\u001b[0m\u001b[0;34m\u001b[0m\u001b[0m\n\u001b[0m\u001b[1;32m    804\u001b[0m         \u001b[0;32mexcept\u001b[0m \u001b[0mzmq\u001b[0m\u001b[0;34m.\u001b[0m\u001b[0mZMQError\u001b[0m \u001b[0;32mas\u001b[0m \u001b[0me\u001b[0m\u001b[0;34m:\u001b[0m\u001b[0;34m\u001b[0m\u001b[0;34m\u001b[0m\u001b[0m\n",
            "\u001b[0;32m/usr/local/lib/python3.7/dist-packages/zmq/sugar/socket.py\u001b[0m in \u001b[0;36mrecv_multipart\u001b[0;34m(self, flags, copy, track)\u001b[0m\n\u001b[1;32m    582\u001b[0m         \"\"\"\n\u001b[0;32m--> 583\u001b[0;31m         \u001b[0mparts\u001b[0m \u001b[0;34m=\u001b[0m \u001b[0;34m[\u001b[0m\u001b[0mself\u001b[0m\u001b[0;34m.\u001b[0m\u001b[0mrecv\u001b[0m\u001b[0;34m(\u001b[0m\u001b[0mflags\u001b[0m\u001b[0;34m,\u001b[0m \u001b[0mcopy\u001b[0m\u001b[0;34m=\u001b[0m\u001b[0mcopy\u001b[0m\u001b[0;34m,\u001b[0m \u001b[0mtrack\u001b[0m\u001b[0;34m=\u001b[0m\u001b[0mtrack\u001b[0m\u001b[0;34m)\u001b[0m\u001b[0;34m]\u001b[0m\u001b[0;34m\u001b[0m\u001b[0;34m\u001b[0m\u001b[0m\n\u001b[0m\u001b[1;32m    584\u001b[0m         \u001b[0;31m# have first part already, only loop while more to receive\u001b[0m\u001b[0;34m\u001b[0m\u001b[0;34m\u001b[0m\u001b[0;34m\u001b[0m\u001b[0m\n",
            "\u001b[0;32mzmq/backend/cython/socket.pyx\u001b[0m in \u001b[0;36mzmq.backend.cython.socket.Socket.recv\u001b[0;34m()\u001b[0m\n",
            "\u001b[0;32mzmq/backend/cython/socket.pyx\u001b[0m in \u001b[0;36mzmq.backend.cython.socket.Socket.recv\u001b[0;34m()\u001b[0m\n",
            "\u001b[0;32mzmq/backend/cython/socket.pyx\u001b[0m in \u001b[0;36mzmq.backend.cython.socket._recv_copy\u001b[0;34m()\u001b[0m\n",
            "\u001b[0;32m/usr/local/lib/python3.7/dist-packages/zmq/backend/cython/checkrc.pxd\u001b[0m in \u001b[0;36mzmq.backend.cython.checkrc._check_rc\u001b[0;34m()\u001b[0m\n",
            "\u001b[0;31mKeyboardInterrupt\u001b[0m: ",
            "\nDuring handling of the above exception, another exception occurred:\n",
            "\u001b[0;31mKeyboardInterrupt\u001b[0m                         Traceback (most recent call last)",
            "\u001b[0;32m<ipython-input-19-5c4c7284a0d2>\u001b[0m in \u001b[0;36m<module>\u001b[0;34m()\u001b[0m\n\u001b[1;32m      5\u001b[0m \u001b[0;34m\u001b[0m\u001b[0m\n\u001b[1;32m      6\u001b[0m         \u001b[0mprint\u001b[0m\u001b[0;34m(\u001b[0m\u001b[0;34m\"Guess heads by entering 1 or tails by entering 2 for this coin flip.\"\u001b[0m\u001b[0;34m)\u001b[0m\u001b[0;34m;\u001b[0m \u001b[0;31m#asking first question\u001b[0m\u001b[0;34m\u001b[0m\u001b[0;34m\u001b[0m\u001b[0m\n\u001b[0;32m----> 7\u001b[0;31m         \u001b[0manswer\u001b[0m \u001b[0;34m=\u001b[0m \u001b[0minput\u001b[0m\u001b[0;34m(\u001b[0m\u001b[0;34m)\u001b[0m                                                               \u001b[0;31m#waiting for users response\u001b[0m\u001b[0;34m\u001b[0m\u001b[0;34m\u001b[0m\u001b[0m\n\u001b[0m\u001b[1;32m      8\u001b[0m         \u001b[0;32mif\u001b[0m\u001b[0;34m(\u001b[0m\u001b[0manswer\u001b[0m \u001b[0;34m==\u001b[0m \u001b[0;36m1\u001b[0m\u001b[0;34m)\u001b[0m\u001b[0;34m:\u001b[0m                                                               \u001b[0;31m#printing heads if user chose heads\u001b[0m\u001b[0;34m\u001b[0m\u001b[0;34m\u001b[0m\u001b[0m\n\u001b[1;32m      9\u001b[0m             \u001b[0mprint\u001b[0m\u001b[0;34m(\u001b[0m\u001b[0;34m\"You guessed heads.\"\u001b[0m\u001b[0;34m)\u001b[0m\u001b[0;34m\u001b[0m\u001b[0;34m\u001b[0m\u001b[0m\n",
            "\u001b[0;32m/usr/local/lib/python3.7/dist-packages/ipykernel/kernelbase.py\u001b[0m in \u001b[0;36mraw_input\u001b[0;34m(self, prompt)\u001b[0m\n\u001b[1;32m    702\u001b[0m             \u001b[0mself\u001b[0m\u001b[0;34m.\u001b[0m\u001b[0m_parent_ident\u001b[0m\u001b[0;34m,\u001b[0m\u001b[0;34m\u001b[0m\u001b[0;34m\u001b[0m\u001b[0m\n\u001b[1;32m    703\u001b[0m             \u001b[0mself\u001b[0m\u001b[0;34m.\u001b[0m\u001b[0m_parent_header\u001b[0m\u001b[0;34m,\u001b[0m\u001b[0;34m\u001b[0m\u001b[0;34m\u001b[0m\u001b[0m\n\u001b[0;32m--> 704\u001b[0;31m             \u001b[0mpassword\u001b[0m\u001b[0;34m=\u001b[0m\u001b[0;32mFalse\u001b[0m\u001b[0;34m,\u001b[0m\u001b[0;34m\u001b[0m\u001b[0;34m\u001b[0m\u001b[0m\n\u001b[0m\u001b[1;32m    705\u001b[0m         )\n\u001b[1;32m    706\u001b[0m \u001b[0;34m\u001b[0m\u001b[0m\n",
            "\u001b[0;32m/usr/local/lib/python3.7/dist-packages/ipykernel/kernelbase.py\u001b[0m in \u001b[0;36m_input_request\u001b[0;34m(self, prompt, ident, parent, password)\u001b[0m\n\u001b[1;32m    732\u001b[0m             \u001b[0;32mexcept\u001b[0m \u001b[0mKeyboardInterrupt\u001b[0m\u001b[0;34m:\u001b[0m\u001b[0;34m\u001b[0m\u001b[0;34m\u001b[0m\u001b[0m\n\u001b[1;32m    733\u001b[0m                 \u001b[0;31m# re-raise KeyboardInterrupt, to truncate traceback\u001b[0m\u001b[0;34m\u001b[0m\u001b[0;34m\u001b[0m\u001b[0;34m\u001b[0m\u001b[0m\n\u001b[0;32m--> 734\u001b[0;31m                 \u001b[0;32mraise\u001b[0m \u001b[0mKeyboardInterrupt\u001b[0m\u001b[0;34m\u001b[0m\u001b[0;34m\u001b[0m\u001b[0m\n\u001b[0m\u001b[1;32m    735\u001b[0m             \u001b[0;32melse\u001b[0m\u001b[0;34m:\u001b[0m\u001b[0;34m\u001b[0m\u001b[0;34m\u001b[0m\u001b[0m\n\u001b[1;32m    736\u001b[0m                 \u001b[0;32mbreak\u001b[0m\u001b[0;34m\u001b[0m\u001b[0;34m\u001b[0m\u001b[0m\n",
            "\u001b[0;31mKeyboardInterrupt\u001b[0m: "
          ]
        }
      ],
      "source": [
        "import random\n",
        "num = 0;\n",
        "g = 0;\n",
        "while (g != 2):\n",
        "        \n",
        "        print(\"Guess heads by entering 1 or tails by entering 2 for this coin flip.\"); #asking first question\n",
        "        answer = input()                                                               #waiting for users response\n",
        "        if(answer == 1):                                                               #printing heads if user chose heads\n",
        "            print(\"You guessed heads.\")\n",
        "        else:                                                                          #printing tails if user chose tails\n",
        "            print(\"you guessed tails.\")\n",
        "        flip = random.choice([1,2])                                                    #flips the coin\n",
        "        if(flip == 1):                                                                 #determines the outcome when flip is equal to 1 or something else and prints heads or tails \n",
        "            print(\"The coin landed on Heads.\")\n",
        "        else:\n",
        "            print(\"The coin landed on Tails.\")\n",
        "        if(answer == flip):                                                            #prompts user whether their guess was right or wrong\n",
        "            print(\"Congrats you guessed right.\")\n",
        "        else:\n",
        "            print(\"Sorry your guess was wrong.\")\n",
        "        num += 1\n",
        "        \n",
        "        print(\"You have guessed \" + str(num) + \" times.\")\n",
        "\n",
        "        print(\"Would you would like to guess again enter 1 or enter 2 to exit?\")\n",
        "        g = input()\n",
        "        if(g == 2):                                                                   #printing heads if user chose heads\n",
        "            quit()\n",
        "        else:\n",
        "            continue"
      ]
    },
    {
      "cell_type": "code",
      "execution_count": null,
      "metadata": {
        "id": "K7eB1rEQnipH"
      },
      "outputs": [],
      "source": [
        "import random\n",
        "def coinToss():\n",
        "    number = input(\"Number of times to flip coin: \")\n",
        "    recordList = []\n",
        "    heads = 0\n",
        "    tails = 0\n",
        "    for amount in range(number):\n",
        "         flip = random.randint(0, 1)\n",
        "         if (flip == 0):\n",
        "              print(\"Heads\")\n",
        "              recordList.append(\"Heads\")\n",
        "         else:\n",
        "              print(\"Tails\")\n",
        "              recordList.append(\"Tails\")\n",
        "    print(str(recordList))\n",
        "    print(str(recordList.count(\"Heads\")) + str(recordList.count(\"Tails\")))"
      ]
    },
    {
      "cell_type": "code",
      "execution_count": null,
      "metadata": {
        "id": "SlujOoULoUpB"
      },
      "outputs": [],
      "source": [
        "import random\n",
        "def coinToss(number):\n",
        "    recordList, heads, tails = [], 0, 0 # multiple assignment\n",
        "    for i in range(number): # do this 'number' amount of times\n",
        "         flip = random.randint(0, 1)\n",
        "         if (flip == 0):\n",
        "              print(\"Heads\")\n",
        "              recordList.append(\"Heads\")\n",
        "         else:\n",
        "              print(\"Tails\")\n",
        "              recordList.append(\"Tails\")\n",
        "    print(str(recordList))\n",
        "    print(str(recordList.count(\"Heads\")) + str(recordList.count(\"Tails\")))"
      ]
    },
    {
      "cell_type": "code",
      "execution_count": null,
      "metadata": {
        "colab": {
          "base_uri": "https://localhost:8080/"
        },
        "id": "-Un4LHQeoiWH",
        "outputId": "b1c4a12e-449e-471e-f533-fc3b8238c1b6"
      },
      "outputs": [
        {
          "name": "stdout",
          "output_type": "stream",
          "text": [
            "Do you want to coin flip? [y|n]y\n",
            "Tails\n",
            "Do you want to coin flip? [y|n]n\n",
            "You flipped the coin 1 times\n",
            "Good bye\n"
          ]
        }
      ],
      "source": [
        "import random\n",
        "import time\n",
        "\n",
        "\n",
        "\n",
        "flips = 0\n",
        "heads = \"Heads\"\n",
        "tails = \"Tails\"\n",
        "\n",
        "heads_and_tails = [(heads),\n",
        "                   (tails)]\n",
        "while input(\"Do you want to coin flip? [y|n]\") == 'y':\n",
        "    print(random.choice(heads_and_tails))\n",
        "    time.sleep(.5)\n",
        "    flips += 1\n",
        "\n",
        "\n",
        "else:\n",
        "    print(\"You flipped the coin\",flips,\"times\")\n",
        "    print(\"Good bye\")"
      ]
    },
    {
      "cell_type": "code",
      "execution_count": null,
      "metadata": {
        "colab": {
          "base_uri": "https://localhost:8080/"
        },
        "id": "pZYLEUpHoiLc",
        "outputId": "d6058b69-4b19-4713-f34d-a8f1f54ef3b1"
      },
      "outputs": [
        {
          "name": "stdout",
          "output_type": "stream",
          "text": [
            "The list1 and list2 are not equal\n"
          ]
        }
      ],
      "source": [
        "list1 = ['11', '12', '13', '14',' 15']  \n",
        "list2 = ['12', '13', '11', '15', '14']  \n",
        "  \n",
        "a = set(list1)  \n",
        "b = set(list2)  \n",
        "  \n",
        "if a == b:  \n",
        "    print(\"The list1 and list2 are equal\")  \n",
        "else:  \n",
        "    print(\"The list1 and list2 are not equal\")  "
      ]
    },
    {
      "cell_type": "code",
      "execution_count": null,
      "metadata": {
        "colab": {
          "base_uri": "https://localhost:8080/"
        },
        "id": "YToaZooikwit",
        "outputId": "c6ef1f28-c079-47f7-e9be-c3b3e86f8467"
      },
      "outputs": [
        {
          "name": "stdout",
          "output_type": "stream",
          "text": [
            "Enter first no.5\n",
            "Enter second no.2\n",
            "\n",
            "sum :  7 \n",
            "subtract : 3 \n",
            "multiple : 10 \n",
            "division : 2.5\n"
          ]
        }
      ],
      "source": [
        "# WAP to add, subtract, multiply and divide two integer values\n",
        "a=int(input(\"Enter first no.\"))\n",
        "b=int(input(\"Enter second no.\"))\n",
        "sum=a+b\n",
        "sub=a-b\n",
        "mul=a*b\n",
        "div=a/b\n",
        "print(\"\\nsum : \",sum,\"\\nsubtract :\",sub,\"\\nmultiple :\",mul,\"\\ndivision :2\",div)\n"
      ]
    },
    {
      "cell_type": "code",
      "execution_count": null,
      "metadata": {
        "colab": {
          "base_uri": "https://localhost:8080/"
        },
        "id": "0KyRqe67lwW9",
        "outputId": "a6f7c170-100a-4f90-9538-25e7993f9888"
      },
      "outputs": [
        {
          "name": "stdout",
          "output_type": "stream",
          "text": [
            "Enter principle amount1000\n",
            "Enter rate percentage8\n",
            "Enter time taken in years3\n",
            "\n",
            "Simple Interest is: 240.0\n"
          ]
        }
      ],
      "source": [
        "# WAP to find simple interest if P, R and T are given\n",
        "p=int(input(\"Enter principle amount\"))\n",
        "r=int(input(\"Enter rate percentage\"))\n",
        "t=int(input(\"Enter time taken in years\"))\n",
        "si=((p*r*t)/100)\n",
        "print(\"\\nSimple Interest is:\",si)\n"
      ]
    },
    {
      "cell_type": "code",
      "execution_count": null,
      "metadata": {
        "colab": {
          "base_uri": "https://localhost:8080/"
        },
        "id": "lmRDhiCfpJaB",
        "outputId": "7882a08d-a9b2-4340-ccf7-fe7285fad537"
      },
      "outputs": [
        {
          "name": "stdout",
          "output_type": "stream",
          "text": [
            "Enter Radius of circle5\n",
            "Area is : 78.5 \n",
            " Circumfearance is :  31.400000000000002\n"
          ]
        }
      ],
      "source": [
        "r=float(input(\"Enter Radius of circle\"))\n",
        "a=3.14*r*r\n",
        "c=2*3.14*r\n",
        "print(\"Area is :\",a,\"\\n Circumfearance is : \",c)"
      ]
    },
    {
      "cell_type": "code",
      "execution_count": null,
      "metadata": {
        "colab": {
          "base_uri": "https://localhost:8080/"
        },
        "id": "3-Bzx5VZrPnX",
        "outputId": "7ada1172-c089-4d33-b5cf-33e0a74435d5"
      },
      "outputs": [
        {
          "name": "stdout",
          "output_type": "stream",
          "text": [
            "Enter 1 no2\n",
            "Enter 2 no5\n",
            "Average is : 3.5\n"
          ]
        }
      ],
      "source": [
        "\n",
        "a=float(input(\"Enter 1 no\"))\n",
        "b=float(input(\"Enter 2 no\"))\n",
        "avg=(a+b)/2\n",
        "print(\"Average is :\",avg)"
      ]
    },
    {
      "cell_type": "code",
      "execution_count": null,
      "metadata": {
        "colab": {
          "base_uri": "https://localhost:8080/"
        },
        "id": "FUzzho2Ltcv6",
        "outputId": "1363d632-2027-4baa-f6aa-e7015b0fe36c"
      },
      "outputs": [
        {
          "name": "stdout",
          "output_type": "stream",
          "text": [
            "krunker king \n",
            "k\n",
            "nker ki\n",
            "krunker ki\n",
            "krunk\n",
            " gnik reknurk\n"
          ]
        }
      ],
      "source": [
        "str=\"krunker king \"\n",
        "print(str)\n",
        "print(str[0])\n",
        "print(str[3:10])\n",
        "print(str[:10])\n",
        "print(str[:5])\n",
        "print(str[::-1])"
      ]
    },
    {
      "cell_type": "code",
      "execution_count": null,
      "metadata": {
        "colab": {
          "base_uri": "https://localhost:8080/"
        },
        "id": "tGOtrhG6vVFC",
        "outputId": "4956f938-c54d-43e6-de0c-ebe3dd641911"
      },
      "outputs": [
        {
          "name": "stdout",
          "output_type": "stream",
          "text": [
            "16\n",
            "  nnuf si nohtyp\n"
          ]
        }
      ],
      "source": [
        "str=\"python is funn  \"\n",
        "print(len(str))\n",
        "print(str[::-1])"
      ]
    },
    {
      "cell_type": "code",
      "execution_count": null,
      "metadata": {
        "colab": {
          "base_uri": "https://localhost:8080/"
        },
        "id": "JOSxtu2LzJ88",
        "outputId": "f7f11846-452d-41cd-896b-885b92b27a51"
      },
      "outputs": [
        {
          "name": "stdout",
          "output_type": "stream",
          "text": [
            "Welcome to Amity bank of India \n",
            "Enter amount you want to deposit : 4750\n",
            "\n",
            "No.of 2000 notes : 2\n",
            "\n",
            "No.of 500 notes : 9\n",
            "\n",
            "No.of 200 notes : 23\n",
            "\n",
            "No.of100 notes : 47\n",
            "\n",
            "No.of 50 notes : 93\n"
          ]
        }
      ],
      "source": [
        "#wap to calculate the total amount in a bank account if the input given is rs 500,rs2000 & rs200.calculate amount.\n",
        "print(\"Welcome to Amity bank of India \")\n",
        "n=int (input(\"Enter amount you want to deposit : \"))\n",
        "\n",
        "print(\"\\nNo.of 2000 notes :\",int(n/2000))\n",
        "n=int(n-int(n/2000))\n",
        "\n",
        "\n",
        "print(\"\\nNo.of 500 notes :\",int(n/500))\n",
        "n=n-int(n/500)\n",
        "print(\"\\nNo.of 200 notes :\",int(n/200))\n",
        "n=n-int(n/200)\n",
        "print(\"\\nNo.of100 notes :\",int(n/100))\n",
        "n=n-int(n/100)\n",
        "print(\"\\nNo.of 50 notes :\",int(n/50))\n",
        "n=n-int(n/50)"
      ]
    },
    {
      "cell_type": "code",
      "execution_count": null,
      "metadata": {
        "colab": {
          "base_uri": "https://localhost:8080/"
        },
        "id": "Kw3wkmqszeV6",
        "outputId": "09645639-7275-46c4-e426-373b742fd647"
      },
      "outputs": [
        {
          "name": "stdout",
          "output_type": "stream",
          "text": [
            "************* Amity BILL  **************\n",
            "Enter Quantity sold : 50\n",
            "\n",
            "Enter Value : 200\n",
            "*************************************\n",
            "Tax is :  1800.0\n",
            "Discount is :  200.0\n",
            "Total Amount to be paid is :  11600.0\n",
            "*************************************\n"
          ]
        }
      ],
      "source": [
        " #WAP to calculate the bill amount of an item if the input given is Quantity sold ,value ,discount and tax.\n",
        "print(\"************* Amity BILL  **************\")\n",
        "Qty=int (input(\"Enter Quantity sold : \"))\n",
        "Val=int (input(\"\\nEnter Value : \"))\n",
        "p=Qty*Val\n",
        "if Qty>100 and Val>=500:\n",
        "  disc=(5/100)*p\n",
        "else : \n",
        "   disc=(2/100)*p\n",
        "tax=p*(18/100)\n",
        "total=(p-disc)+tax\n",
        "print(\"*************************************\")\n",
        "print(\"Tax is : \",tax)\n",
        "print(\"Discount is : \",disc)\n",
        "print(\"Total Amount to be paid is : \",total)\n",
        "print(\"*************************************\")"
      ]
    },
    {
      "cell_type": "code",
      "execution_count": null,
      "metadata": {
        "id": "JV3YLuxPKU3g"
      },
      "outputs": [],
      "source": [
        "class Solution:\n",
        "    def isPalindrome(self, s: str) -> bool:\n",
        "        start=0\n",
        "        end=len(s)-1\n",
        "         \n",
        "        while start<end:\n",
        "            while start<end and not s[start].isalnum():\n",
        "                start+=1\n",
        "            while start<end and not s[end].isalnum():\n",
        "                end-=1    \n",
        "                \n",
        "            if s[start].lower()!=s[end].lower():\n",
        "                return False;\n",
        "        start+=1\n",
        "        end-=1  \n",
        "        return True;"
      ]
    },
    {
      "cell_type": "code",
      "execution_count": null,
      "metadata": {
        "colab": {
          "base_uri": "https://localhost:8080/"
        },
        "id": "QlONNMZ94k1k",
        "outputId": "ab3a3395-5cab-432f-8ed1-a9be023de6aa"
      },
      "outputs": [
        {
          "name": "stdout",
          "output_type": "stream",
          "text": [
            "Welcome to Amity bank of India \n",
            "********************************\n",
            "Enter amount you want to deposit : 5001\n",
            "No of  ₹ 2000 notes : 2\n",
            "No of  ₹ 500 notes : 2\n",
            "No of  ₹ 200 notes : 0\n",
            "No of  ₹ 100 notes : 0\n",
            "No of  ₹ 50 notes : 0\n",
            "No of  ₹ 20 notes : 0\n",
            "No of  ₹ 10 notes : 0\n",
            "No of  ₹ 5 notes : 0\n",
            "No of  ₹ 2 notes : 0\n",
            "No of  ₹ 1 notes : 1\n"
          ]
        }
      ],
      "source": [
        "#wap to calculate the total amount in a bank account if the input given is rs 500,rs2000 & rs200.calculate amount.\n",
        "print(\"Welcome to Amity bank of India \")\n",
        "print(\"********************************\")\n",
        "notes = (2000,500,200,100,50,20,10,5,2,1)\n",
        "\n",
        "amount = int(input(\"Enter amount you want to deposit : \"))\n",
        "\n",
        "for i in notes:\n",
        "    ctr = amount//i\n",
        "    print(\"No of  ₹\",i,'notes :',ctr)\n",
        "    amount = amount%i"
      ]
    },
    {
      "cell_type": "code",
      "execution_count": null,
      "metadata": {
        "colab": {
          "base_uri": "https://localhost:8080/"
        },
        "id": "G9I0_lXwwyiM",
        "outputId": "962e8024-c43c-4e74-c425-b46f587ae3ee"
      },
      "outputs": [
        {
          "name": "stdout",
          "output_type": "stream",
          "text": [
            "Enter a number5\n",
            "The factors of 5 is:\n",
            "120\n"
          ]
        }
      ],
      "source": [
        "#print factorial of a number\n",
        "s=1\n",
        "x=int(input(\"Enter a number\"))\n",
        "print(\"The factors of\",x,\"is:\")\n",
        "for i in range(1, x):\n",
        "       s=s+s*i\n",
        "print(s)"
      ]
    },
    {
      "cell_type": "code",
      "execution_count": null,
      "metadata": {
        "colab": {
          "base_uri": "https://localhost:8080/"
        },
        "id": "huQ54EbLyQcJ",
        "outputId": "39a9f5c4-71e2-413c-ebb5-b2ed466f67a7"
      },
      "outputs": [
        {
          "name": "stdout",
          "output_type": "stream",
          "text": [
            "Enter your age : 16\n",
            "not eligible to Vote\n"
          ]
        }
      ],
      "source": [
        "#to determine if person is eligible to vote \n",
        "age=int(input(\"Enter your age : \"))\n",
        "if age<18 :\n",
        "  print(\"not eligible to Vote\")\n",
        "else:\n",
        "  print(\"eligible to Vote\")"
      ]
    },
    {
      "cell_type": "code",
      "execution_count": null,
      "metadata": {
        "colab": {
          "base_uri": "https://localhost:8080/"
        },
        "id": "v4ZQgxcCzMv6",
        "outputId": "5d9d4623-b9dd-4d3f-90fb-a906db5a315b"
      },
      "outputs": [
        {
          "name": "stdout",
          "output_type": "stream",
          "text": [
            "Enter a year 2024\n",
            "Is a leap year\n"
          ]
        }
      ],
      "source": [
        "#to find whether a year is leap year \n",
        "lp=int(input(\"Enter a year \"))\n",
        "if (lp % 400 == 0) and (lp % 100 == 0):\n",
        "    print(\"Is a leap year\")\n",
        "\n",
        "\n",
        "elif (lp % 4 ==0) and (lp % 100 != 0):\n",
        "    print(\"Is a leap year\")\n",
        "else :\n",
        "  print(\" Not  a Leap year \")  "
      ]
    },
    {
      "cell_type": "code",
      "execution_count": null,
      "metadata": {
        "colab": {
          "base_uri": "https://localhost:8080/"
        },
        "id": "B0We0OoF1jru",
        "outputId": "0fef8bc5-dbbc-4215-b5dd-e42bc0d4a0bc"
      },
      "outputs": [
        {
          "name": "stdout",
          "output_type": "stream",
          "text": [
            "Enter a number  -2\n",
            "-ve\n"
          ]
        }
      ],
      "source": [
        "#test if no is -ve ,+ve,zero\n",
        "x=int(input(\"Enter a number  \"))\n",
        "if x>0:\n",
        "  print(\"+ve\")\n",
        "elif x<0:\n",
        "  print(\"-ve\")\n",
        "else: \n",
        "  print(\"Zero\")    \n"
      ]
    },
    {
      "cell_type": "code",
      "execution_count": null,
      "metadata": {
        "colab": {
          "base_uri": "https://localhost:8080/"
        },
        "id": "_KrOzGO75buP",
        "outputId": "d5d69f4a-b000-445f-81ce-eeb7a7b0e9b7"
      },
      "outputs": [
        {
          "name": "stdout",
          "output_type": "stream",
          "text": [
            "Enter 3 no\n",
            " 1st no : 5\n",
            " 2nd no : 10\n",
            " 3rd  no : 23\n",
            "23 is greater \n",
            "5 is smaller\n"
          ]
        }
      ],
      "source": [
        "#find greatest and smallest of 3 no \n",
        "print(\"Enter 3 no\" )\n",
        "x=int(input(\" 1st no : \"))\n",
        "y=int(input(\" 2nd no : \"))\n",
        "z=int(input(\" 3rd  no : \"))\n",
        "if (x>y and x>z):\n",
        "  print(x,\"is greater\")\n",
        "elif (y>x and y>z):\n",
        "  print(y,\"is greater\")\n",
        "else:\n",
        "  print(z,\"is greater \")\n",
        "if (x<y and x<z):\n",
        "  print(x,\"is smaller\")    \n",
        "elif (y<x and y<z):\n",
        "  print(y,\"is smaller\")    \n",
        "else :\n",
        "  print(z,\"is smaller\")    "
      ]
    },
    {
      "cell_type": "code",
      "execution_count": null,
      "metadata": {
        "colab": {
          "base_uri": "https://localhost:8080/"
        },
        "id": "S0P8dbShxnDQ",
        "outputId": "230d8481-de4e-4923-9221-1d0a020d5793"
      },
      "outputs": [
        {
          "name": "stdout",
          "output_type": "stream",
          "text": [
            "welcome"
          ]
        }
      ],
      "source": [
        "# WAP to convert a list of characters into string \n",
        "li=['w','e','l','c','o','m','e']\n",
        "for i in li:\n",
        "  print(i,end='')"
      ]
    },
    {
      "cell_type": "code",
      "execution_count": null,
      "metadata": {
        "colab": {
          "base_uri": "https://localhost:8080/"
        },
        "id": "xf0sBNWq7zY0",
        "outputId": "21d41575-d2f0-4dbd-c13f-fbe98b24828f"
      },
      "outputs": [
        {
          "name": "stdout",
          "output_type": "stream",
          "text": [
            "welcome\n"
          ]
        }
      ],
      "source": [
        "# WAP to convert a list of characters into string \n",
        "li=['w','e','l','c','o','m','e']\n",
        "s=''.join(li)\n",
        "print(s)"
      ]
    },
    {
      "cell_type": "code",
      "execution_count": null,
      "metadata": {
        "colab": {
          "base_uri": "https://localhost:8080/"
        },
        "id": "kFDGSXYLx1xS",
        "outputId": "372f7a13-3c79-4d46-e8a6-947cc1c27ba5"
      },
      "outputs": [
        {
          "name": "stdout",
          "output_type": "stream",
          "text": [
            "Enter a character a\n",
            "a found at  5 position\n",
            "\n"
          ]
        }
      ],
      "source": [
        "# WAP to find index of item specified in the list also find a given element in list\n",
        "li=['i','n','d','i','a']\n",
        "p=0\n",
        "f=0\n",
        "n=input(\"Enter a character \")\n",
        "for i in range() :\n",
        "  p+=1\n",
        "  if(i==n):\n",
        "    print(n,\"found at \",p,\"position\")\n",
        "  else:\n",
        "    f=1\n",
        "if(f==0):\n",
        "  print(\"not found :(\")\n",
        "else:\n",
        "  print('')"
      ]
    },
    {
      "cell_type": "code",
      "execution_count": null,
      "metadata": {
        "colab": {
          "base_uri": "https://localhost:8080/"
        },
        "id": "rYVQLHTs6zpS",
        "outputId": "b4b78c79-b4b0-4710-c88b-17ba6019da1b"
      },
      "outputs": [
        {
          "name": "stdout",
          "output_type": "stream",
          "text": [
            "Enter a character o\n",
            "i = 0 \n",
            " h\n",
            "i = 1 \n",
            " o\n",
            "i = 2 \n",
            " m\n",
            "i = 3 \n",
            " e\n",
            "o found at  1 position\n"
          ]
        }
      ],
      "source": [
        "# WAP to find index of item specified in the list also find a given element in list\n",
        "\n",
        "li=['h','o','m','e']\n",
        "n=input(\"Enter a character \")\n",
        "for i in li:\n",
        "   print(\"i =\",li.index(i),\"\\n\",i)\n",
        "if n in li:\n",
        "  print(n,\"found at \",li.index(n),\"position\")\n",
        "else:\n",
        "  print('not found')  \n"
      ]
    },
    {
      "cell_type": "code",
      "execution_count": null,
      "metadata": {
        "id": "sZMH5zqbDCL0"
      },
      "outputs": [],
      "source": [
        "#WAp to Create two files F1&f2\n",
        "#To read & display contets and count the number of lines & find the word whose count is more in f1&f2\n",
        "#to display a file f3 which is combination of f1and f2\n",
        "file1=open(\"abc.txt\",'w')\n",
        "file2=open(\"xyz.txt\",\"w\")\n",
        "file1.write(\"Amity is a great University for Information and & Technology.X \")\n",
        "file2.write(\"Aset is  a great department .\")\n",
        "     \n",
        "file1.close()\n",
        "file2.close()"
      ]
    },
    {
      "cell_type": "code",
      "execution_count": null,
      "metadata": {
        "colab": {
          "base_uri": "https://localhost:8080/"
        },
        "id": "3erEhsWTEx5l",
        "outputId": "15b3bf90-6f0e-46cd-f984-f072b9bc9c31"
      },
      "outputs": [
        {
          "name": "stdout",
          "output_type": "stream",
          "text": [
            "Enter a worduniversity\n",
            "file1 has more words.\n",
            "\n",
            "\n"
          ]
        }
      ],
      "source": [
        "#WAp to Create two files F1&f2\n",
        "#To read & display contets and count the number of lines & find the word whose count is more in f1&f2\n",
        "#to display a file f3 which is combination of f1 and f2\n",
        "\n",
        "n=input(\"Enter a word\")\n",
        "file1=open(\"abc.txt\",'w+')\n",
        "ctr=0\n",
        "ctr1=0\n",
        "file2=open(\"xyz.txt\",\"w+\")\n",
        "file3=open(\"merge.txt\",\"w\")\n",
        "\n",
        "file1.write(\"Amity is a great University for Information and  Technology.People Find it great to be a part of this university \")\n",
        "file2.write(\"Aset is  a great department .\")\n",
        "for n in file1.readlines():\n",
        "    ctr=ctr+1\n",
        "for n in file2.readlines():\n",
        "    ctr1=ctr1+1\n",
        "if ctr1>ctr:\n",
        "    print(\"file2 has more words.\")\n",
        "else:\n",
        "    print(\"file1 has more words.\")\n",
        "print(file1.read()) \n",
        "print(file2.read())\n",
        "f1=file1.read()\n",
        "f2=file2.read()\n",
        "f1=f1+\"\\n\"+f2\n",
        "\n",
        "file3.write(f1)\n",
        "\n",
        "file1.close()\n",
        "file2.close()\n",
        "file3.close()"
      ]
    },
    {
      "cell_type": "code",
      "execution_count": null,
      "metadata": {
        "colab": {
          "base_uri": "https://localhost:8080/"
        },
        "id": "HhXpwg9MGEj2",
        "outputId": "9f549893-3f11-4f2f-d379-2095b0e41910"
      },
      "outputs": [
        {
          "name": "stdout",
          "output_type": "stream",
          "text": [
            "Fibonacci sequence:\n",
            "0\n",
            "1\n",
            "1\n",
            "2\n",
            "3\n"
          ]
        }
      ],
      "source": [
        "n1,n2=0,1\n",
        "count=0\n",
        "if nterms <= 0:\n",
        "   print(\"Please enter a positive integer\")\n",
        "elif nterms == 1:\n",
        "   print(\"Fibonacci sequence upto\",nterms,\":\")\n",
        "   print(n1)\n",
        "else:\n",
        "   print(\"Fibonacci sequence:\")\n",
        "   while count < nterms:\n",
        "       print(n1)\n",
        "       nth = n1 + n2\n",
        "       # update values\n",
        "       n1 = n2\n",
        "       n2 = nth\n",
        "       count += 1"
      ]
    },
    {
      "cell_type": "code",
      "source": [
        "def factorial(n):\n",
        "  if n == 1:\n",
        "       return n\n",
        "  else:\n",
        "       return n*factorial(n-1)\n",
        "\n",
        "num = int(input(\"Enter any number: \"))\n",
        "\n",
        "if num < 0:\n",
        "    print(\"Factorial does not exist for negative numbers\")\n",
        "\n",
        "elif num == 0:\n",
        "    print(\"The factorial of 0 is 1\")\n",
        "else:\n",
        "    print(\"The factorial of\", num, \"is\", factorial(num))"
      ],
      "metadata": {
        "colab": {
          "base_uri": "https://localhost:8080/"
        },
        "id": "23o47HEAKg8J",
        "outputId": "e152d612-4527-41a3-aa04-146073af076f"
      },
      "execution_count": null,
      "outputs": [
        {
          "output_type": "stream",
          "name": "stdout",
          "text": [
            "Enter any number: 5\n",
            "The factorial of 5 is 120\n"
          ]
        }
      ]
    },
    {
      "cell_type": "code",
      "source": [
        "def exp(x,y):\n",
        "  if(y==0):\n",
        "    return 1.\n",
        "  else:\n",
        "    return(x*exp(x,y-1))\n",
        "x=int(input(\"Enter  first no:\"))\n",
        "y=int(input(\"Enter second no:\"))\n",
        "print(\"Result=\",exp(x,y))\n"
      ],
      "metadata": {
        "id": "7BLZc8RhK4Vw",
        "colab": {
          "base_uri": "https://localhost:8080/"
        },
        "outputId": "87ef4daf-d638-4bc3-913c-6a4bc00273f3"
      },
      "execution_count": null,
      "outputs": [
        {
          "output_type": "stream",
          "name": "stdout",
          "text": [
            "Enter  first no:2\n",
            "Enter second no:4\n",
            "Result= 16.0\n"
          ]
        }
      ]
    },
    {
      "cell_type": "code",
      "source": [
        "# WAP to calculate Greatest common divisor (GCD) using recursive function\n",
        "x= int(input(\"Enter the first number :\"))\n",
        "y= int(input(\"Enter the second number :\"))\n",
        "def GCD(x,y):\n",
        " rem=x%y\n",
        " if(rem==0):\n",
        "    return y\n",
        " else:\n",
        "    return GCD(y,rem)\n",
        "print(\"The GCD of two numbers is:\", GCD(x,y))\n"
      ],
      "metadata": {
        "colab": {
          "base_uri": "https://localhost:8080/"
        },
        "id": "U78FNPanxEYT",
        "outputId": "c08afe98-9392-4ad7-e600-3033b9978795"
      },
      "execution_count": null,
      "outputs": [
        {
          "output_type": "stream",
          "name": "stdout",
          "text": [
            "Enter the first number :88\n",
            "Enter the second number :12\n",
            "The GCD of two numbers is: 4\n"
          ]
        }
      ]
    },
    {
      "cell_type": "code",
      "source": [
        "x = (input())\n",
        "frequency = {}\n",
        "for item in x:\n",
        "  if item in frequency:\n",
        "    frequency[item] += 1\n",
        "  else:\n",
        "    frequency[item] = 1\n",
        "print(frequency)\n"
      ],
      "metadata": {
        "colab": {
          "base_uri": "https://localhost:8080/"
        },
        "id": "XBibEfiayDAl",
        "outputId": "cbaf7967-05d3-463a-ea5c-6878edc8ce2b"
      },
      "execution_count": null,
      "outputs": [
        {
          "output_type": "stream",
          "name": "stdout",
          "text": [
            "Apoorv Coder\n",
            "{'A': 1, 'p': 1, 'o': 3, 'r': 2, 'v': 1, ' ': 1, 'C': 1, 'd': 1, 'e': 1}\n"
          ]
        }
      ]
    },
    {
      "cell_type": "code",
      "source": [
        "class MyTime:\n",
        "\n",
        "    def __init__(self, hrs=0, mins=0, secs=0):\n",
        "        \"\"\" Create a new MyTime object initialized to hrs, mins, secs.\n",
        "            The values of mins and secs may be outside the range 0-59,\n",
        "            but the resulting MyTime object will be normalized.\n",
        "        \"\"\"\n",
        "        # Calculate total seconds to represent\n",
        "        totalsecs = hrs*3600 + mins*60 + secs\n",
        "        self.hours = totalsecs // 3600        # Split in h, m, s\n",
        "        leftoversecs = totalsecs % 3600\n",
        "        self.minutes = leftoversecs // 60\n",
        "        self.seconds = leftoversecs % 60\n",
        "\n",
        "    def __str__(self):\n",
        "        timeString = \"\"\n",
        "        if self.hours < 10:\n",
        "            timeString += \"0\"\n",
        "        timeString += str(self.hours) + \":\"\n",
        "        if self.minutes < 10:\n",
        "            timeString += \"0\"\n",
        "        timeString += str(self.minutes) + \":\"\n",
        "        if self.seconds < 10:\n",
        "            timeString += \"0\"\n",
        "        timeString += str(self.seconds)\n",
        "        return timeString\n",
        "\n",
        "    def to_seconds(self):\n",
        "        \n",
        "        return self.hours * 3600 + self.minutes * 60 + self.seconds\n",
        "\n",
        "def add_time(t1, t2):\n",
        "    secs = t1.to_seconds() + t2.to_seconds()\n",
        "    return MyTime(0, 0, secs)\n",
        "\n",
        "currentTime = MyTime(9, 23, 20)\n",
        "breadTime = MyTime(2, 00, 10)\n",
        "doneTime = add_time(currentTime, breadTime)\n",
        "print(doneTime)"
      ],
      "metadata": {
        "colab": {
          "base_uri": "https://localhost:8080/"
        },
        "id": "zp3gn6n2cMy5",
        "outputId": "293c1252-8be6-446b-a8fd-b68b05effea2"
      },
      "execution_count": null,
      "outputs": [
        {
          "output_type": "stream",
          "name": "stdout",
          "text": [
            "11:23:30\n"
          ]
        }
      ]
    },
    {
      "cell_type": "code",
      "source": [
        "a=[]\n",
        "n=int(input(\"Enter number of elements:\"))\n",
        "for i in range(1,n+1):\n",
        "    b=int(input(\"Enter element:\"))\n",
        "    a.append(b)\n",
        "even=[]\n",
        "odd=[]\n",
        "for j in a:\n",
        "    if(j%2==0):\n",
        "        even.append(j)\n",
        "    else:\n",
        "        odd.append(j)\n",
        "print(\"The even list\",even)\n",
        "print(\"The odd list\",odd)3"
      ],
      "metadata": {
        "colab": {
          "base_uri": "https://localhost:8080/"
        },
        "id": "pDn0s_0taiwJ",
        "outputId": "f0865d88-65ff-44b0-ebe8-123290f2fb0d"
      },
      "execution_count": null,
      "outputs": [
        {
          "output_type": "stream",
          "name": "stdout",
          "text": [
            "Enter number of elements:5\n",
            "Enter element:1\n",
            "Enter element:3\n",
            "Enter element:4\n",
            "Enter element:6\n",
            "Enter element:4\n",
            "The even list [4, 6, 4]\n",
            "The odd list [1, 3]\n"
          ]
        }
      ]
    },
    {
      "cell_type": "code",
      "source": [
        "list1 = [('Amity', 1), ('university', 2), ('noida', 3)]\n",
        "\n",
        "\n",
        "my_dict = {i[0]: i[1] for i in list1}\n",
        "\n",
        "\n",
        "print(my_dict)"
      ],
      "metadata": {
        "id": "7ftCpsVYalWW",
        "colab": {
          "base_uri": "https://localhost:8080/"
        },
        "outputId": "dff174cd-25dc-4424-a267-a86aa43a65f5"
      },
      "execution_count": null,
      "outputs": [
        {
          "output_type": "stream",
          "name": "stdout",
          "text": [
            "{'Amity': 1, 'university': 2, 'noida': 3}\n"
          ]
        }
      ]
    },
    {
      "cell_type": "code",
      "source": [
        "from kanren import isvar, run, membero\n",
        "from kanren.core import goaleval, condeseq, success, fail, eq, var\n",
        "from sympy.ntheory.generate import prime, isprime\n",
        "import itertools as it\n",
        "def prime_check(x):\n",
        "\n",
        "  if isvar(x):\n",
        "    return condeseq([(eq,x,p)] for p in map(prime, it.count(1)))\n",
        "  else:\n",
        "    return success if isprime(x) else fail\n",
        "x = var()\n",
        "print((set(run(0,x,(membero,x,(12,14,15,19,20,21,22,23,29,30,41,44,52,62,65,85)),\n",
        "(prime_check,x)))))\n",
        "print((run(10,x,prime_check(x))))"
      ],
      "metadata": {
        "id": "Vgvsr121NVl7",
        "colab": {
          "base_uri": "https://localhost:8080/"
        },
        "outputId": "058bbcbc-ba3b-4f00-d37e-a667ba3c1858"
      },
      "execution_count": null,
      "outputs": [
        {
          "output_type": "stream",
          "name": "stdout",
          "text": [
            "{41, 19, 29, 23}\n",
            "(2, 3, 5, 7, 11, 13, 17, 19, 23, 29)\n"
          ]
        }
      ]
    },
    {
      "cell_type": "code",
      "source": [
        "import sqlite3\n",
        " \n",
        "from sqlite3 import Error\n",
        " \n",
        "def sql_connection():\n",
        "   try:\n",
        "     conn = sqlite3.connect('testdb.db')\n",
        "     return conn\n",
        "   except Error:\n",
        "     print(Error)\n",
        " \n",
        "def sql_table(conn):\n",
        "   cursorObj = conn.cursor()\n",
        "# Create the table\n",
        "   cursorObj.execute(\"CREATE TABLE salesman(salesman_id n(5), name char(30), city char(35), commission decimal(7,2));\")\n",
        "# Insert records\n",
        "   cursorObj.executescript(\"\"\"\n",
        "   INSERT INTO salesman VALUES(5001,'James Hoog', 'New York', 0.15);\n",
        "   INSERT INTO salesman VALUES(5002,'Nail Knite', 'Paris', 0.25);\n",
        "   INSERT INTO salesman VALUES(5003,'Pit Alex', 'London', 0.15);\n",
        "   INSERT INTO salesman VALUES(5004,'Mc Lyon', 'Paris', 0.35);\n",
        "   INSERT INTO salesman VALUES(5005,'Paul Adam', 'Rome', 0.45);\n",
        "   \"\"\")\n",
        "   conn.commit()\n",
        "   cursorObj.execute(\"SELECT * FROM salesman\")\n",
        "   rows = cursorObj.fetchall()\n",
        "   print(\"Agent details:\")\n",
        "   for row in rows:\n",
        "       print(row)\n",
        "sqllite_conn = sql_connection()\n",
        "sql_table(sqllite_conn)\n",
        "if (sqllite_conn):\n",
        " sqllite_conn.close()\n",
        " print(\"\\nThe SQLite connection is closed.\")"
      ],
      "metadata": {
        "colab": {
          "base_uri": "https://localhost:8080/"
        },
        "id": "F6wcZ1fqni71",
        "outputId": "c30622b3-214b-4602-e607-6377e9ee43d3"
      },
      "execution_count": null,
      "outputs": [
        {
          "output_type": "stream",
          "name": "stdout",
          "text": [
            "Agent details:\n",
            "(5001, 'James Hoog', 'New York', 0.15)\n",
            "(5002, 'Nail Knite', 'Paris', 0.25)\n",
            "(5003, 'Pit Alex', 'London', 0.15)\n",
            "(5004, 'Mc Lyon', 'Paris', 0.35)\n",
            "(5005, 'Paul Adam', 'Rome', 0.45)\n",
            "\n",
            "The SQLite connection is closed.\n"
          ]
        }
      ]
    },
    {
      "cell_type": "code",
      "source": [
        "from collections import deque\n",
        "def Solution(a, b, target):\n",
        "m = {}\n",
        "isSolvable = False\n",
        "path = []\n",
        "q = deque() # queue to maintain states\n",
        "#Initializing with jugs being empty(initializing with initial\n",
        "state)\n",
        "q.append((0, 0)) # append to the right\n",
        "while (len(q) > 0):\n",
        "# Current state\n",
        "u = q.popleft() # remove from the left\n",
        "# if the state is already visited\n",
        "if ((u[0], u[1]) in m):\n",
        "continue\n",
        "# doesn’t meet jug constraints\n",
        "if ((u[0] > a or u[1] > b or\n",
        "u[0] < 0 or u[1] < 0)):\n",
        "continue\n",
        "# filling the vector for constructing the solution path\n",
        "path.append([u[0], u[1]])\n",
        "# marking current state as visited\n",
        "m[(u[0], u[1])] = 1\n",
        "# if we reach solution state, put ans=1\n",
        "if (u[0] == target or u[1] == target):\n",
        "isSolvable = True\n",
        "if (u[0] == target):\n",
        "if (u[1] != 0):\n",
        "# fill final state\n",
        "path.append([u[0], 0])\n",
        "else:\n",
        "if (u[0] != 0):\n",
        "# fill final state\n",
        "path.append([0, u[1]])\n",
        "# print the solution path\n",
        "sz = len(path)\n",
        "for i in range(sz):\n",
        "print(\"(\", path[i][0], \",\",\n",
        "path[i][1], \")\")\n",
        "break\n",
        "# If we have not reached final state\n",
        " # then, start developing intermediate\n",
        " # states to reach solution state\n",
        "q.append([u[0], b]) # Fill Jug2\n",
        "q.append([a, u[1]]) # Fill Jug1\n",
        "for ap in range(max(a, b) + 1):\n",
        "# Pour amount ap from Jug2 to Jug1\n",
        "c = u[0] + ap\n",
        "d = u[1] - ap\n",
        "# Check if this state is possible or not\n",
        "if (c == a or (d == 0 and d >= 0)):\n",
        "q.append([c, d])\n",
        "# Pour amount ap from Jug 1 to Jug2\n",
        "c = u[0] - ap\n",
        "d = u[1] + ap\n",
        "# Check if this state is possible or not\n",
        "if ((c == 0 and c >= 0) or d == b):\n",
        "q.append([c, d])\n",
        "# Empty Jug2\n",
        "q.append([a, 0])\n",
        "# Empty Jug1\n",
        "q.append([0, b])\n",
        "# No, solution exists if ans=0\n",
        "if (not isSolvable):\n",
        "print(\"Solution not possible\")\n",
        "# Driver code\n",
        "if __name__ == '__main__':\n",
        "Jug1, Jug2, target = 4, 3, 2\n",
        "print(\"Path from initial state \"\n",
        "\"to solution state ::\")\n",
        "Solution(Jug1, Jug2, target)"
      ],
      "metadata": {
        "colab": {
          "base_uri": "https://localhost:8080/",
          "height": 134
        },
        "id": "Ntr_JARftAHU",
        "outputId": "76024304-8801-40af-bae5-8bc9ac2f234b"
      },
      "execution_count": null,
      "outputs": [
        {
          "output_type": "error",
          "ename": "IndentationError",
          "evalue": "ignored",
          "traceback": [
            "\u001b[0;36m  File \u001b[0;32m\"<ipython-input-26-d3fdb33234fb>\"\u001b[0;36m, line \u001b[0;32m3\u001b[0m\n\u001b[0;31m    m = {}\u001b[0m\n\u001b[0m    ^\u001b[0m\n\u001b[0;31mIndentationError\u001b[0m\u001b[0;31m:\u001b[0m expected an indented block\n"
          ]
        }
      ]
    },
    {
      "cell_type": "code",
      "source": [
        "N=int(input(\"Enter Total number of Population.\"))\n",
        "T=int(input(\"Enter Total number of Population.\"))\n",
        "n=int(input(\"Enter the matrix you want to make :\"))\n",
        "i=0\n",
        "for i in range(0,n*n):\n",
        "  \n",
        "\n",
        "\n",
        "fi=x*x\n",
        "for i in range (1,T):\n",
        "    Ns=round*(N*(1-(t/T)))\n",
        "    for j in range(Ns):\n",
        "      if fitness value of Fi <fitness value fj:\n",
        "        position=x+randomvalue*(previous position - jth position)\n",
        "      else:\n",
        "        position=x+r(x-x)  \n",
        "       "
      ],
      "metadata": {
        "id": "kF_gq_h1HDzW"
      },
      "execution_count": null,
      "outputs": []
    },
    {
      "cell_type": "code",
      "source": [
        "\n",
        "Rows = int(input(\"Give the number of rows:\"))  \n",
        "Columns = int(input(\"Give the number of columns:\"))  \n",
        "  \n",
        "# Initializing the matrix  \n",
        "matrix = []  \n",
        "print(\"Please give the entries row-wise:\")  \n",
        "  \n",
        "# For user input  \n",
        "for _ in range(Rows):  # This for loop is to arrange rows  \n",
        "    r = []  \n",
        "    for __ in range(Columns):  # This for loop is to arrange columns  \n",
        "        r.append(int(input()))  \n",
        "    matrix.append(r)  \n",
        "  \n",
        "# Printing the matrix given by user  \n",
        "for _ in range(Rows):  \n",
        "    for __ in range(Columns):  \n",
        "        print(matrix[_][__], end=\" \")  \n",
        "    print()  \n"
      ],
      "metadata": {
        "id": "r_uIpbz6QKLp",
        "colab": {
          "base_uri": "https://localhost:8080/"
        },
        "outputId": "029feba9-25c8-4aac-e127-11010d1baaeb"
      },
      "execution_count": null,
      "outputs": [
        {
          "output_type": "stream",
          "name": "stdout",
          "text": [
            "Give the number of rows:2\n",
            "Give the number of columns:2\n",
            "Please give the entries row-wise:\n",
            "2\n",
            "1\n",
            "2\n",
            "3\n",
            "2 1 \n",
            "2 3 \n"
          ]
        }
      ]
    },
    {
      "cell_type": "code",
      "source": [
        "v=int(input(\"Enter the type of matrix:\"))\n",
        "graph[][]\n",
        "print(\"Enter u,v :\")\n",
        "for i in range (0,v):\n",
        "  for j in range (0,v):\n",
        "    int(input(graph[i][j]))\n",
        "      "
      ],
      "metadata": {
        "colab": {
          "base_uri": "https://localhost:8080/",
          "height": 262
        },
        "id": "In5MDfcT0uy1",
        "outputId": "5ae943cf-14d5-415a-de62-509ceb9f3942"
      },
      "execution_count": null,
      "outputs": [
        {
          "output_type": "stream",
          "name": "stdout",
          "text": [
            "Enter the type of matrix:2\n",
            "Enter u,v :\n"
          ]
        },
        {
          "output_type": "error",
          "ename": "NameError",
          "evalue": "ignored",
          "traceback": [
            "\u001b[0;31m---------------------------------------------------------------------------\u001b[0m",
            "\u001b[0;31mNameError\u001b[0m                                 Traceback (most recent call last)",
            "\u001b[0;32m<ipython-input-9-37e9f7ba62c1>\u001b[0m in \u001b[0;36m<module>\u001b[0;34m\u001b[0m\n\u001b[1;32m      4\u001b[0m \u001b[0;32mfor\u001b[0m \u001b[0mi\u001b[0m \u001b[0;32min\u001b[0m \u001b[0mrange\u001b[0m \u001b[0;34m(\u001b[0m\u001b[0;36m0\u001b[0m\u001b[0;34m,\u001b[0m\u001b[0mv\u001b[0m\u001b[0;34m)\u001b[0m\u001b[0;34m:\u001b[0m\u001b[0;34m\u001b[0m\u001b[0;34m\u001b[0m\u001b[0m\n\u001b[1;32m      5\u001b[0m   \u001b[0;32mfor\u001b[0m \u001b[0mj\u001b[0m \u001b[0;32min\u001b[0m \u001b[0mrange\u001b[0m \u001b[0;34m(\u001b[0m\u001b[0;36m0\u001b[0m\u001b[0;34m,\u001b[0m\u001b[0mv\u001b[0m\u001b[0;34m)\u001b[0m\u001b[0;34m:\u001b[0m\u001b[0;34m\u001b[0m\u001b[0;34m\u001b[0m\u001b[0m\n\u001b[0;32m----> 6\u001b[0;31m     \u001b[0mint\u001b[0m\u001b[0;34m(\u001b[0m\u001b[0minput\u001b[0m\u001b[0;34m(\u001b[0m\u001b[0mgraph\u001b[0m\u001b[0;34m[\u001b[0m\u001b[0mi\u001b[0m\u001b[0;34m]\u001b[0m\u001b[0;34m[\u001b[0m\u001b[0mj\u001b[0m\u001b[0;34m]\u001b[0m\u001b[0;34m)\u001b[0m\u001b[0;34m)\u001b[0m\u001b[0;34m\u001b[0m\u001b[0;34m\u001b[0m\u001b[0m\n\u001b[0m\u001b[1;32m      7\u001b[0m \u001b[0;34m\u001b[0m\u001b[0m\n",
            "\u001b[0;31mNameError\u001b[0m: name 'graph' is not defined"
          ]
        }
      ]
    },
    {
      "cell_type": "code",
      "source": [
        "# A Node class for GBFS Pathfinding\n",
        "class Node:\n",
        "    def __init__(self, v, weight):\n",
        "        self.v=v\n",
        "        self.weight=weight\n",
        "\n",
        "# pathNode class will help to store\n",
        "# the path from src to dest.\n",
        "class pathNode:\n",
        "    def __init__(self, node, parent):\n",
        "        self.node=node\n",
        "        self.parent=parent\n",
        "\n",
        "# Function to add edge in the graph.\n",
        "def addEdge(u, v, weight):\n",
        "    # Add edge u -> v with weight weight.\n",
        "    adj[u].append(Node(v, weight))\n",
        "\n",
        "\n",
        "# Declaring the adjacency list\n",
        "adj = []\n",
        "# Greedy best first search algorithm function\n",
        "def GBFS(h, V, src, dest):\n",
        "    \"\"\" \n",
        "    This function returns a list of \n",
        "    integers that denote the shortest\n",
        "    path found using the GBFS algorithm.\n",
        "    If no path exists from src to dest, we will return an empty list.\n",
        "    \"\"\"\n",
        "    # Initializing openList and closeList.\n",
        "    openList = []\n",
        "    closeList = []\n",
        "\n",
        "    # Inserting src in openList.\n",
        "    openList.append(pathNode(src, None))\n",
        "\n",
        "    # Iterating while the openList \n",
        "    # is not empty.\n",
        "    while (openList):\n",
        "\n",
        "        currentNode = openList[0]\n",
        "        currentIndex = 0\n",
        "        # Finding the node with the least 'h' value\n",
        "        for i in range(len(openList)):\n",
        "            if(h[openList[i].node] < h[currentNode.node]):\n",
        "                currentNode = openList[i]\n",
        "                currentIndex = i\n",
        "\n",
        "        # Removing the currentNode from \n",
        "        # the openList and adding it in \n",
        "        # the closeList.\n",
        "        openList.pop(currentIndex)\n",
        "        closeList.append(currentNode)\n",
        "        \n",
        "        # If we have reached the destination node.\n",
        "        if(currentNode.node == dest):\n",
        "            # Initializing the 'path' list. \n",
        "            path = []\n",
        "            cur = currentNode\n",
        "\n",
        "            # Adding all the nodes in the \n",
        "            # path list through which we have\n",
        "            # reached to dest.\n",
        "            while(cur != None):\n",
        "                path.append(cur.node)\n",
        "                cur = cur.parent\n",
        "            \n",
        "\n",
        "            # Reversing the path, because\n",
        "            # currently it denotes path\n",
        "            # from dest to src.\n",
        "            path.reverse()\n",
        "            return path\n",
        "        \n",
        "\n",
        "        # Iterating over adjacents of 'currentNode'\n",
        "        # and adding them to openList if \n",
        "        # they are neither in openList or closeList.\n",
        "        for node in adj[currentNode.node]:\n",
        "            for x in openList:\n",
        "                if(x.node == node.v):\n",
        "                    continue\n",
        "            \n",
        "            for x in closeList:\n",
        "                if(x.node == node.v):\n",
        "                    continue\n",
        "            \n",
        "            openList.append(pathNode(node.v, currentNode))\n",
        "\n",
        "    return []\n",
        "\n",
        "# Driver Code\n",
        "\"\"\" Making the following graph\n",
        "             src = 0\n",
        "            / | \\\n",
        "           /  |  \\\n",
        "          1   2   3\n",
        "         /\\   |   /\\\n",
        "        /  \\  |  /  \\\n",
        "        4   5 6 7    8\n",
        "               /\n",
        "              /\n",
        "            dest = 9\n",
        "\"\"\"\n",
        "V = 10\n",
        "for i in range(V):\n",
        "    adj.append([])\n",
        "addEdge(0, 1, 2)\n",
        "addEdge(0, 2, 1)\n",
        "addEdge(0, 3, 10)\n",
        "addEdge(1, 4, 3)\n",
        "addEdge(1, 5, 2)\n",
        "addEdge(2, 6, 9)\n",
        "addEdge(3, 7, 5)\n",
        "addEdge(3, 8, 2)\n",
        "addEdge(7, 9, 5)\n",
        "\n",
        "h = [20, 22, 21, 10, 25, 24, 30, 5, 12, 0]\n",
        "path = GBFS(h, V, 0, 9)\n",
        "for i in range(len(path) - 1):\n",
        "    print(path[i], end = \" -> \")\n",
        "print(path[(len(path)-1)])\n"
      ],
      "metadata": {
        "colab": {
          "base_uri": "https://localhost:8080/"
        },
        "id": "Ioz6GIPU2IYx",
        "outputId": "ef69dc3c-bd4e-4cc7-be86-80d020d73a3c"
      },
      "execution_count": null,
      "outputs": [
        {
          "output_type": "stream",
          "name": "stdout",
          "text": [
            "0 -> 3 -> 7 -> 9\n"
          ]
        }
      ]
    },
    {
      "cell_type": "code",
      "source": [
        "def main():\n",
        "    ver,e,v,u,w = map(int,input().split())\n",
        "    graph = [[0] * ver for _ in range(ver)]\n",
        "    for i in range(e):\n",
        "        u,v = map(int,input().split())\n",
        "        graph[u][v] = 1\n",
        "    for i in range(ver):\n",
        "        for j in range(ver):\n",
        "            print(graph[i][j],end=\" \")\n",
        "        "
      ],
      "metadata": {
        "id": "PfphwDNW5Ilu"
      },
      "execution_count": null,
      "outputs": []
    },
    {
      "cell_type": "code",
      "source": [
        "import random\n",
        "import math  # cos() for Rastrigin\n",
        "import copy  # array-copying convenience\n",
        "import sys  # max float\n",
        "import statistics\n",
        " \n",
        "# -------fitness functions---------\n",
        " \n",
        "# rastrigin function\n",
        "\"\"\"def fitness_rastrigin(position):\n",
        "    fitness_value = 0.0\n",
        "    for i in range(len(position)):\n",
        "        xi = position[i]\n",
        "        fitness_value += (xi * xi) - (10 * math.cos(2 * math.pi * xi)) + 10\n",
        "    return fitness_value\"\"\"\n",
        " \n",
        " \n",
        "# sphere function\n",
        "def fitness_sphere(position):\n",
        "    fitness_value = 0.0\n",
        "    for i in range(len(position)):\n",
        "        xi = position[i]\n",
        "        fitness_value += (xi * xi);\n",
        "    return fitness_value;\n",
        " \n",
        " \n",
        "# -------------------------\n",
        " \n",
        " \n",
        "#jellyfish class\n",
        "class jellyfish:\n",
        "    def _init_(self, fitness, dim, minx, maxx, seed):\n",
        "        self.rnd = random.Random(seed)\n",
        "        self.position = [0.0 for i in range(dim)]\n",
        " \n",
        "        for i in range(dim):\n",
        "            self.position[i] = ((maxx - minx) * self.rnd.random() + minx)\n",
        " \n",
        "        self.fitness = fitness(self.position)  # curr fitness\n",
        " \n",
        " \n",
        "# whale optimization algorithm(WOA)\n",
        "def jso(fitness, max_iter, n, dim, minx, maxx):\n",
        "    rnd = random.Random(0)\n",
        "        \n",
        " \n",
        "    # create n random whales\n",
        "    jellyfishPopulation = [jellyfish(fitness, dim, minx, maxx, i) for i in range(n)]\n",
        " \n",
        "    # compute the value of best_position and best_fitness in the jellyfishPopulation\n",
        "    Xbest = [0.0 for i in range(dim)]\n",
        "    Fbest = sys.float_info.max\n",
        " \n",
        "    for i in range(n):  # check each jellyfish\n",
        "        if jellyfishPopulation[i].fitness < Fbest:\n",
        "            Fbest = jellyfishPopulation[i].fitness\n",
        "            Xbest = copy.copy(jellyfishPopulation[i].position)\n",
        " \n",
        "    # main loop of woa\n",
        "    Iter = 0\n",
        "    while Iter < max_iter:\n",
        " \n",
        "        # after every 10 iterations\n",
        "        # print iteration number and best fitness value so far\n",
        "        if Iter % 10 == 0 and Iter > 1:\n",
        "            print(\"Iter = \" + str(Iter) + \" best fitness = %.3f\" % Fbest)\n",
        " \n",
        "        # linearly decreased from 2 to 0\n",
        "        A= ((1 - Iter / max_iter),2(random.randrange(0,1))-1)\n",
        "        #evaluate time control function\n",
        "       #a2=-1+Iter*((-1)/max_iter)\n",
        "\n",
        "        for i in range(n):\n",
        "           #A = 2 * a * rnd.random() - a\n",
        "           C =random.randrange(0,1)\n",
        "           beta=3\n",
        "           gamma=0.1\n",
        "           \n",
        "           #b = 1\n",
        "           #l = (a2-1)*rnd.random()+1;\n",
        "           p = random.randrange(0,1)\n",
        "\n",
        "           #D = [0.0 for i in range(dim)]\n",
        "           #D1 = [0.0 for i in range(dim)]\n",
        "           Xnew = [0.0 for i in range(dim)]\n",
        "           #Xrand = [0.0 for i in range(dim)]\n",
        "           if abs(A) >= 0.5:\n",
        "               for j in range(dim):\n",
        "                   mu=statistics.mean(Xnew)\n",
        "                   \n",
        "                   Xnew[j]=jellyfishPopulation[i].position[j]+C*(Xbest[j]-beta*p*mu)\n",
        "           else:\n",
        "               if C>(1-A):\n",
        "                   for j in range(dim):\n",
        "                       Xnew[j]=jellyfishPopulation[i].position[j]+gamma*p*(maxx-minx)\n",
        "               else:\n",
        "                   for i in range(n):\n",
        "                       candidates = [item for item in list(0,dim) if item != i] \n",
        "                       k          = random.choice(candidates)\n",
        "                       for j in range(dim):\n",
        "                           #rand = int.from_bytes(os.urandom(8), byteorder = \"big\") / ((1 << 64) - 1)\n",
        "                           if JellyfishPopulation[i].fitness>=JellyfishPopulation[i].fitness[k]:\n",
        "                               \n",
        "                               direction =JellyfishPopulation[k].position[j] - JellyfishPopulation[i].position[j]\n",
        "                           else:\n",
        "                               direction =JellyfishPopulation[i].position[j] - JellyfishPopulation[k].position[j]\n",
        "                           Xnew[j] =jellyfishPopulation[i].position[j]+p*direction"
      ],
      "metadata": {
        "colab": {
          "base_uri": "https://localhost:8080/"
        },
        "id": "e08scarvT1tU",
        "outputId": "fb5c01dc-edd4-4c56-cd01-e3a3b67c04a9"
      },
      "execution_count": null,
      "outputs": [
        {
          "output_type": "stream",
          "name": "stderr",
          "text": [
            "<>:69: SyntaxWarning: 'int' object is not callable; perhaps you missed a comma?\n",
            "<>:69: SyntaxWarning: 'int' object is not callable; perhaps you missed a comma?\n",
            "<ipython-input-5-7fb91416eeee>:69: SyntaxWarning: 'int' object is not callable; perhaps you missed a comma?\n",
            "  A= ((1 - Iter / max_iter),2(random.randrange(0,1))-1)\n"
          ]
        }
      ]
    },
    {
      "cell_type": "code",
      "source": [
        "\n",
        "np_velocity = [ 1, 2, 3, 4 ]\n",
        " \n",
        "\n",
        "np_velocity_fixed = np_velocity.copy()\n",
        " \n",
        "\n",
        " \n",
        "# Adding new element to new list\n",
        "np_velocity_fixed[-2]=1.8\n",
        "\n",
        "print (\"The new list after adding new element : \\\n",
        "\" + str(np_velocity_fixed))\n",
        "print (\"The old list after adding new element to new list  : \\\n",
        "\" + str(np_velocity))"
      ],
      "metadata": {
        "colab": {
          "base_uri": "https://localhost:8080/"
        },
        "id": "wMcP0QgR1rva",
        "outputId": "d2e143d6-5b98-4bbb-a388-179597b5b6e9"
      },
      "execution_count": null,
      "outputs": [
        {
          "output_type": "stream",
          "name": "stdout",
          "text": [
            "The new list after adding new element : [1, 2, 1.8, 4]\n",
            "The old list after adding new element to new list  : [1, 2, 3, 4]\n"
          ]
        }
      ]
    },
    {
      "cell_type": "code",
      "source": [
        "import numpy as np\n",
        "body_measurement = [[168, 55.4],[155, 47.7],[175, 69.5],[189, 90.2]]\n",
        "np_body_measurement =np.array(body_measurement)\n",
        "print(np_body_measurement) "
      ],
      "metadata": {
        "id": "G5gI5HBv8v77",
        "colab": {
          "base_uri": "https://localhost:8080/"
        },
        "outputId": "eb0a5674-f0f7-4d1e-a87d-9172dc1823f7"
      },
      "execution_count": 14,
      "outputs": [
        {
          "output_type": "stream",
          "name": "stdout",
          "text": [
            "[[168.   55.4]\n",
            " [155.   47.7]\n",
            " [175.   69.5]\n",
            " [189.   90.2]]\n"
          ]
        }
      ]
    },
    {
      "cell_type": "code",
      "source": [
        "ans9=np_body_measurement.shape\n",
        "print(ans9)"
      ],
      "metadata": {
        "colab": {
          "base_uri": "https://localhost:8080/"
        },
        "id": "_yagixV4pYaq",
        "outputId": "1a16262d-d722-4b85-876b-c46689e2810e"
      },
      "execution_count": 18,
      "outputs": [
        {
          "output_type": "stream",
          "name": "stdout",
          "text": [
            "(4, 2)\n"
          ]
        }
      ]
    },
    {
      "cell_type": "code",
      "source": [
        "second_student=np_body_measurement[1]\n",
        "print(second_student)"
      ],
      "metadata": {
        "colab": {
          "base_uri": "https://localhost:8080/"
        },
        "id": "cL6PepYvqdsU",
        "outputId": "2659178e-2e93-4d0d-f11b-5111dd8261b2"
      },
      "execution_count": 21,
      "outputs": [
        {
          "output_type": "stream",
          "name": "stdout",
          "text": [
            "[155.   47.7]\n"
          ]
        }
      ]
    },
    {
      "cell_type": "code",
      "source": [
        "weight_third_student=np_body_measurement[2,1]\n",
        "print(weight_third_student)"
      ],
      "metadata": {
        "colab": {
          "base_uri": "https://localhost:8080/"
        },
        "id": "9VrWull1rYy0",
        "outputId": "37f02713-7341-44c4-c161-4afff99fc760"
      },
      "execution_count": 27,
      "outputs": [
        {
          "output_type": "stream",
          "name": "stdout",
          "text": [
            "69.5\n"
          ]
        }
      ]
    },
    {
      "cell_type": "code",
      "source": [
        "#df_students = pd.read_csv(\"students.csv\")\n",
        "ans13='a'\n",
        "print(ans13)"
      ],
      "metadata": {
        "colab": {
          "base_uri": "https://localhost:8080/"
        },
        "id": "DU2ji5CvriQM",
        "outputId": "414e6bb0-1a02-4fea-ad73-918df17d3402"
      },
      "execution_count": 31,
      "outputs": [
        {
          "output_type": "stream",
          "name": "stdout",
          "text": [
            "a\n"
          ]
        }
      ]
    },
    {
      "cell_type": "code",
      "source": [
        "import pandas as pd\n",
        "\n",
        "df_patients= pd.read_csv('patient.csv')\n",
        "df_patients_main= pd.DataFrame[['sex'],['age'],['bmi']]\n"
      ],
      "metadata": {
        "id": "iekEb8YBvBTj"
      },
      "execution_count": null,
      "outputs": []
    }
  ],
  "metadata": {
    "colab": {
      "provenance": [],
      "authorship_tag": "ABX9TyNPy6C1I3Ul1INtXTLLvWE0",
      "include_colab_link": true
    },
    "kernelspec": {
      "display_name": "Python 3",
      "name": "python3"
    }
  },
  "nbformat": 4,
  "nbformat_minor": 0
}